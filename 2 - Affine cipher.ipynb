{
 "cells": [
  {
   "cell_type": "code",
   "execution_count": 1,
   "metadata": {},
   "outputs": [],
   "source": [
    "alphabet = \"abcdefghijklmnopqrstuvwxyzABCDEFGHIJKLMNOPQRSTUVWXYZ,.-'! \\n\""
   ]
  },
  {
   "cell_type": "markdown",
   "metadata": {},
   "source": [
    "$$\n",
    "E(x) = (ax + b) \\mod m\n",
    "$$"
   ]
  },
  {
   "cell_type": "code",
   "execution_count": 2,
   "metadata": {},
   "outputs": [],
   "source": [
    "def encrypt(text, a, b, m, alphabet=alphabet):\n",
    "  encrypted = \"\"\n",
    "  for i in range(len(text)):\n",
    "      encrypted += alphabet[(a*(alphabet.index(text[i])) + b) % m]\n",
    "      \n",
    "  return encrypted"
   ]
  },
  {
   "cell_type": "code",
   "execution_count": 3,
   "metadata": {},
   "outputs": [],
   "source": [
    "def euclid(a, m):\n",
    "  if m == 0:\n",
    "    return a, 0, 1\n",
    "\n",
    "  e, x, y = euclid(m, a % m)\n",
    "\n",
    "  return e, y - (a//m) * x, x\n",
    "\n",
    "def modinv(a, m):\n",
    "  e, x, y = euclid(a, m) \n",
    "  return None if e != 1 else y % m"
   ]
  },
  {
   "cell_type": "code",
   "execution_count": 4,
   "metadata": {},
   "outputs": [],
   "source": [
    "def decrypt(encrypted, a_inv, b, m, alphabet=alphabet):\n",
    "  decrypted = \"\"\n",
    "  for i in range(len(encrypted)):\n",
    "      decrypted += alphabet[(a_inv*(alphabet.index(encrypted[i]) + m - b)) % m]\n",
    "      \n",
    "  return decrypted"
   ]
  },
  {
   "cell_type": "code",
   "execution_count": 5,
   "metadata": {},
   "outputs": [],
   "source": [
    "text = '''When forty winters shall besiege thy brow,\n",
    "And dig deep trenches in thy beauty's field,\n",
    "Thy youth's proud livery, so gazed on now,\n",
    "Will be a tattered weed of small worth held.\n",
    "Then being asked where all thy beauty lies,\n",
    "Where all the treasure of thy lusty days,\n",
    "To say within thine own deep-sunken eyes\n",
    "Were an all-eating shame and thriftless praise.\n",
    "How much more praise deserved thy beauty's use\n",
    "If thou couldst answer 'This fair child of mine\n",
    "Shall sum my count, and make my old excuse',\n",
    "Proving his beauty by succession thine.\n",
    "This were to be new made when thou art old,\n",
    "And see thy blood warm when thou feel'st it cold.'''"
   ]
  },
  {
   "cell_type": "code",
   "execution_count": 6,
   "metadata": {},
   "outputs": [],
   "source": [
    "m = len(alphabet)\n",
    "a = 5\n",
    "b = 8"
   ]
  },
  {
   "cell_type": "code",
   "execution_count": 7,
   "metadata": {},
   "outputs": [
    {
     "name": "stdout",
     "output_type": "stream",
     "text": [
      "mRCo HtISk aWoSCIN NRiee nCNWCMC SRk nItaGduox xWM xCCy SICosRCN Wo SRk nCiXSkVN HWCexGd!Rk ktXSRVN yItXx eW-CIkG Nt MipCx to otaGdmWee nC i SiSSCICx aCCx tH Njiee atISR RCexLd!RCo nCWoM iN\n",
      "Cx aRCIC iee SRk nCiXSk eWCNGdmRCIC iee SRC SICiNXIC tH SRk eXNSk xikNGd!t Nik aWSRWo SRWoC tao xCCyQNXo\n",
      "Co CkCNdmCIC io ieeQCiSWoM NRijC iox SRIWHSeCNN yIiWNCLd'ta jXsR jtIC yIiWNC xCNCI-Cx SRk nCiXSkVN XNCdbH SRtX stXexNS ioNaCI V!RWN HiWI sRWex tH jWoCdZRiee NXj jk stXoSG iox ji\n",
      "C jk tex CfsXNCVGdKIt-WoM RWN nCiXSk nk NXssCNNWto SRWoCLd!RWN aCIC St nC oCa jixC aRCo SRtX iIS texGduox NCC SRk nettx aiIj aRCo SRtX HCCeVNS WS stexL\n"
     ]
    }
   ],
   "source": [
    "encrypted = encrypt(text, a, b, m)\n",
    "print(encrypted)"
   ]
  },
  {
   "cell_type": "code",
   "execution_count": 8,
   "metadata": {},
   "outputs": [],
   "source": [
    "a_inv = modinv(a, m)"
   ]
  },
  {
   "cell_type": "code",
   "execution_count": 9,
   "metadata": {},
   "outputs": [
    {
     "name": "stdout",
     "output_type": "stream",
     "text": [
      "When forty winters shall besiege thy brow,\n",
      "And dig deep trenches in thy beauty's field,\n",
      "Thy youth's proud livery, so gazed on now,\n",
      "Will be a tattered weed of small worth held.\n",
      "Then being asked where all thy beauty lies,\n",
      "Where all the treasure of thy lusty days,\n",
      "To say within thine own deep-sunken eyes\n",
      "Were an all-eating shame and thriftless praise.\n",
      "How much more praise deserved thy beauty's use\n",
      "If thou couldst answer 'This fair child of mine\n",
      "Shall sum my count, and make my old excuse',\n",
      "Proving his beauty by succession thine.\n",
      "This were to be new made when thou art old,\n",
      "And see thy blood warm when thou feel'st it cold.\n"
     ]
    }
   ],
   "source": [
    "decrypted = decrypt(encrypted, a_inv, b, m)\n",
    "print(decrypted)"
   ]
  },
  {
   "cell_type": "code",
   "execution_count": null,
   "metadata": {},
   "outputs": [],
   "source": []
  }
 ],
 "metadata": {
  "kernelspec": {
   "display_name": "Python 3",
   "language": "python",
   "name": "python3"
  },
  "language_info": {
   "codemirror_mode": {
    "name": "ipython",
    "version": 3
   },
   "file_extension": ".py",
   "mimetype": "text/x-python",
   "name": "python",
   "nbconvert_exporter": "python",
   "pygments_lexer": "ipython3",
   "version": "3.8.2"
  }
 },
 "nbformat": 4,
 "nbformat_minor": 4
}
