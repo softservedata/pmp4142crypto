{
 "cells": [
  {
   "cell_type": "code",
   "execution_count": 1,
   "metadata": {},
   "outputs": [],
   "source": [
    "import numpy as np"
   ]
  },
  {
   "cell_type": "code",
   "execution_count": 2,
   "metadata": {},
   "outputs": [],
   "source": [
    "class CardanoCipher:\n",
    "    def __init__(self):\n",
    "        self.n = 0\n",
    "        self.m = 0\n",
    "        \n",
    "    def encrypt(self, plaintext: str, grille: np.ndarray):\n",
    "        self.n, self.m = grille.shape[0], grille.shape[1]\n",
    "        self.grille_coordinates = self._create_grill_indecies(grille)\n",
    "        \n",
    "        plaintext = plaintext.replace(' ', '') \n",
    "        ciphertext = \"\"\n",
    "\n",
    "        for substr in self._create_substrings(plaintext, grille):\n",
    "            ciphertext_part = self._encrypt_by_grille(substr, grille)\n",
    "            ciphertext += ciphertext_part\n",
    "\n",
    "        return ciphertext\n",
    "\n",
    "    def decrypt(self, ciphertext: str, grille: list):\n",
    "        self.n, self.m = grille.shape[0], grille.shape[1]\n",
    "        self.grille_coordinates = self._create_grill_indecies(grille)\n",
    "\n",
    "        plaintext = \"\"\n",
    "        \n",
    "        for substr in self._create_substrings(ciphertext, grille):\n",
    "            plaintext_part = self._decrypt_by_grille(substr, grille)\n",
    "            plaintext += plaintext_part\n",
    "\n",
    "        return plaintext\n",
    "    \n",
    "    def _encrypt_by_grille(self, plaintext: str, grille: np.ndarray):\n",
    "        ciphertext = [\"\"] * (self.n * self.m)\n",
    "        \n",
    "        for idx, coord in enumerate(self.grille_coordinates):\n",
    "            if coord and coord[2] < len(plaintext):\n",
    "                ciphertext[coord[0] * self.n + coord[1]] = plaintext[coord[2]]\n",
    "        \n",
    "        return \"\".join(ciphertext)\n",
    "    \n",
    "    def _decrypt_by_grille(self, ciphertext: str, grille: np.ndarray):\n",
    "        plaintext = [\"\"] * len(ciphertext)\n",
    "\n",
    "        count = 0\n",
    "        for idx, coord in enumerate(self.grille_coordinates):\n",
    "            if coord and coord[2] < len(plaintext):\n",
    "                plaintext[coord[2]] = ciphertext[count]\n",
    "                count += 1\n",
    "\n",
    "        return \"\".join(plaintext)    \n",
    "\n",
    "    def _create_grill_indecies(self, grille: list):\n",
    "        grille_coordinates = [None] * (self.n * self.m)\n",
    "\n",
    "        count = 0\n",
    "        for k in range(4):\n",
    "            for i in range(self.n):\n",
    "                for j in range(self.m):\n",
    "                    if grille[i][j]:\n",
    "                        grille_coordinates[i * self.n + j] = [i, j, count]\n",
    "                        count += 1\n",
    "\n",
    "            grille = self._rotate(grille)\n",
    "\n",
    "        return grille_coordinates\n",
    "    \n",
    "    def _create_substrings(self, text: str, grille: list):\n",
    "        values_per_iter = np.sum(grille == 1) * 4\n",
    "        num_iter = int(np.ceil(len(text) / values_per_iter))\n",
    "\n",
    "        substrings = []\n",
    "\n",
    "        for i in range(num_iter):\n",
    "            begin = i * values_per_iter\n",
    "            \n",
    "            if i != num_iter - 1:\n",
    "                end = (i+1)*values_per_iter\n",
    "            else:\n",
    "                end = None\n",
    "\n",
    "            substrings.append(text[begin:end])\n",
    "        \n",
    "        return substrings\n",
    "    \n",
    "    def _rotate(self, matrix: np.ndarray):\n",
    "        rotated_matrix =  np.zeros([self.n, self.m])\n",
    "        \n",
    "        for i in range(self.n):\n",
    "            for j in range(self.m):\n",
    "                rotated_matrix[i][j] = matrix[self.n - j - 1][i]\n",
    "        \n",
    "        return rotated_matrix"
   ]
  },
  {
   "cell_type": "code",
   "execution_count": 3,
   "metadata": {},
   "outputs": [],
   "source": [
    "grille = np.array([\n",
    "    [1, 0, 0, 0],\n",
    "    [0, 1, 0, 1],\n",
    "    [0, 0, 0, 0],\n",
    "    [0, 0, 0, 0]\n",
    "])\n",
    "plaintext = \"\"\"Evil is Evil. Lesser, greater, middling. \n",
    "Makes no difference. The degree is arbitary. The definition’s blurred. \n",
    "If I’m to choose between one evil and another… I’d rather not choose at all.\n",
    "\"\"\""
   ]
  },
  {
   "cell_type": "markdown",
   "metadata": {},
   "source": [
    "### Encrypt"
   ]
  },
  {
   "cell_type": "code",
   "execution_count": 4,
   "metadata": {},
   "outputs": [
    {
     "name": "stdout",
     "output_type": "stream",
     "text": [
      "EllviiE.vLsieaesrsgtre,ergi,dml.i\n",
      "dnMfeaskofdenirdceenTehg.ertieserabraiynh.eTeiftdiir’osnleudbr.cf\n",
      "IImhto’oonbseewoenteenielvnodtaaht…eIrdhre’aretncooaothsa.l\n",
      "l\n"
     ]
    }
   ],
   "source": [
    "cardano = CardanoCipher()\n",
    "encrypted_text = cardano.encrypt(plaintext, grille)\n",
    "print(encrypted_text)"
   ]
  },
  {
   "cell_type": "markdown",
   "metadata": {},
   "source": [
    "### Decrypt"
   ]
  },
  {
   "cell_type": "code",
   "execution_count": 5,
   "metadata": {},
   "outputs": [
    {
     "name": "stdout",
     "output_type": "stream",
     "text": [
      "EvilisEvil.Lesser,greater,middling.\n",
      "Makesnodifference.Thedegreeisarbitary.Thedefinition’sblurred.\n",
      "IfI’mtochoosebetweenoneevilandanother…I’drathernotchooseatall.\n",
      "\n"
     ]
    }
   ],
   "source": [
    "decrypted_text = cardano.decrypt(encrypted_text, grille)\n",
    "print(decrypted_text)"
   ]
  }
 ],
 "metadata": {
  "kernelspec": {
   "display_name": "Python 3",
   "language": "python",
   "name": "python3"
  },
  "language_info": {
   "codemirror_mode": {
    "name": "ipython",
    "version": 3
   },
   "file_extension": ".py",
   "mimetype": "text/x-python",
   "name": "python",
   "nbconvert_exporter": "python",
   "pygments_lexer": "ipython3",
   "version": "3.8.2"
  }
 },
 "nbformat": 4,
 "nbformat_minor": 4
}
