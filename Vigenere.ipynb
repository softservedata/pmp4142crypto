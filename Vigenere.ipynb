{
 "metadata": {
  "language_info": {
   "codemirror_mode": {
    "name": "ipython",
    "version": 3
   },
   "file_extension": ".py",
   "mimetype": "text/x-python",
   "name": "python",
   "nbconvert_exporter": "python",
   "pygments_lexer": "ipython3",
   "version": "3.7.6-final"
  },
  "orig_nbformat": 2,
  "kernelspec": {
   "name": "python376jvsc74a57bd07c6009591694ee33185308d547f24a4453642edc715487b2fa7d499df03f9283",
   "display_name": "Python 3.7.6 32-bit"
  }
 },
 "nbformat": 4,
 "nbformat_minor": 2,
 "cells": [
  {
   "cell_type": "code",
   "execution_count": 36,
   "metadata": {},
   "outputs": [],
   "source": [
    "class VigenereCipher:\n",
    "    def __init__(self):\n",
    "        self.alphabet = \"abcdefghijklmnopqrstuvwxyz\"\n",
    "\n",
    "    def encode(self, plaintext, key):\n",
    "    \n",
    "        input_string = \"\"\n",
    "        enc_key = \"\"\n",
    "        enc_string = \"\"\n",
    "\n",
    "        enc_key = key\n",
    "        enc_key = enc_key.lower()\n",
    "\n",
    "        input_string = plaintext\n",
    "        input_string = input_string.lower()\n",
    "\n",
    "        string_length = len(input_string)\n",
    "\n",
    "        expanded_key = enc_key\n",
    "        expanded_key_length = len(expanded_key)\n",
    "\n",
    "        while expanded_key_length < string_length:\n",
    "            expanded_key = expanded_key + enc_key\n",
    "            expanded_key_length = len(expanded_key)\n",
    "\n",
    "        key_position = 0\n",
    "        #print(enc_key)\n",
    "        #print(expanded_key)\n",
    "        for letter in input_string:\n",
    "            if letter in self.alphabet:\n",
    "\n",
    "                position = self.alphabet.find(letter)\n",
    "                key_character = expanded_key[key_position]\n",
    "                key_character_position = self.alphabet.find(key_character)\n",
    "                key_position = key_position + 1\n",
    "                new_position = position + key_character_position\n",
    "\n",
    "                if new_position > 26:\n",
    "                    new_position = new_position - 26\n",
    "                new_character = self.alphabet[new_position]\n",
    "                enc_string = enc_string + new_character\n",
    "            else:\n",
    "                enc_string = enc_string + letter\n",
    "        return(enc_string)\n",
    "\n",
    "    def decode(self, plaintext, key):\n",
    "        input_string = \"\"\n",
    "        decKey = \"\"\n",
    "        decString = \"\"\n",
    "        decKey = key\n",
    "        decKey = decKey.lower()\n",
    "        input_string = plaintext\n",
    "        input_string = input_string.lower()\n",
    "\n",
    "        string_length = len(input_string)\n",
    "\n",
    "        expanded_key = decKey\n",
    "        expanded_key_length = len(expanded_key)\n",
    "\n",
    "        while expanded_key_length < string_length:\n",
    "            expanded_key = expanded_key + decKey\n",
    "            expanded_key_length = len(expanded_key)\n",
    "\n",
    "        key_position = 0\n",
    "\n",
    "        for letter in input_string:\n",
    "            if letter in self.alphabet:\n",
    "                position = self.alphabet.find(letter)\n",
    "                key_character = expanded_key[key_position]\n",
    "                key_character_position = self.alphabet.find(key_character)\n",
    "                key_position = key_position + 1\n",
    "                new_position = position - key_character_position\n",
    "                if new_position > len(self.alphabet):\n",
    "                    new_position = new_position + len(alphabet)\n",
    "                new_character = self.alphabet[new_position]\n",
    "                decString = decString + new_character\n",
    "            else:\n",
    "                decString = decString + letter\n",
    "        return(decString)"
   ]
  },
  {
   "cell_type": "code",
   "execution_count": 44,
   "metadata": {},
   "outputs": [
    {
     "output_type": "stream",
     "name": "stdout",
     "text": [
      "cde\n"
     ]
    }
   ],
   "source": [
    "vigenere = VigenereCipher()\n",
    "print(vigenere.encode(\"abc\", \"c\"))"
   ]
  },
  {
   "cell_type": "code",
   "execution_count": 45,
   "metadata": {},
   "outputs": [
    {
     "output_type": "stream",
     "name": "stdout",
     "text": [
      "abc\n"
     ]
    }
   ],
   "source": [
    "print(vigenere.decode(\"cde\", \"c\"))"
   ]
  },
  {
   "cell_type": "code",
   "execution_count": null,
   "metadata": {},
   "outputs": [],
   "source": []
  }
 ]
}