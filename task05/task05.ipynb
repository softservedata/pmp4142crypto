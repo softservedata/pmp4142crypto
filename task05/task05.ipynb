{
 "cells": [
  {
   "cell_type": "code",
   "execution_count": 1,
   "metadata": {},
   "outputs": [],
   "source": [
    "text = \"Text to encrypt\""
   ]
  },
  {
   "cell_type": "code",
   "execution_count": 2,
   "metadata": {},
   "outputs": [],
   "source": [
    "alphabet = \"abcdefghijklmnopqrstuvwxyz\""
   ]
  },
  {
   "cell_type": "code",
   "execution_count": 3,
   "metadata": {},
   "outputs": [],
   "source": [
    "keyword = \"ls\""
   ]
  },
  {
   "cell_type": "code",
   "execution_count": 4,
   "metadata": {},
   "outputs": [],
   "source": [
    "text = text.lower()\n",
    "\n",
    "key = keyword * (len(text)//len(keyword) + 1)\n",
    "key = key[:len(text)]\n",
    "\n",
    "ciphertext = \"\"\n",
    "for p_char, k_char in zip(text, key):\n",
    "    if p_char in alphabet:\n",
    "        ciphertext += alphabet[( (alphabet.index(p_char) + alphabet.index(k_char)) % 26)]\n",
    "    else:\n",
    "        ciphertext += p_char\n"
   ]
  },
  {
   "cell_type": "code",
   "execution_count": 5,
   "metadata": {},
   "outputs": [
    {
     "data": {
      "text/plain": [
       "'ewil lz pfnjjhe'"
      ]
     },
     "execution_count": 5,
     "metadata": {},
     "output_type": "execute_result"
    }
   ],
   "source": [
    "ciphertext"
   ]
  },
  {
   "cell_type": "code",
   "execution_count": 6,
   "metadata": {},
   "outputs": [],
   "source": [
    "ciphertext = ciphertext.lower()\n",
    "\n",
    "key = keyword * (len(ciphertext)//len(keyword) + 1)\n",
    "key = key[:len(ciphertext)]\n",
    "\n",
    "plaintext = \"\"\n",
    "for c_char, k_char in zip(ciphertext, key):\n",
    "    if c_char in alphabet:\n",
    "        plaintext += alphabet[( (alphabet.index(c_char) - alphabet.index(k_char) + 26) % 26)]\n",
    "    else:\n",
    "        plaintext += c_char"
   ]
  },
  {
   "cell_type": "code",
   "execution_count": 7,
   "metadata": {},
   "outputs": [
    {
     "data": {
      "text/plain": [
       "'text to encrypt'"
      ]
     },
     "execution_count": 7,
     "metadata": {},
     "output_type": "execute_result"
    }
   ],
   "source": [
    "plaintext"
   ]
  },
  {
   "cell_type": "code",
   "execution_count": null,
   "metadata": {},
   "outputs": [],
   "source": []
  }
 ],
 "metadata": {
  "kernelspec": {
   "display_name": "Python 3",
   "language": "python",
   "name": "python3"
  },
  "language_info": {
   "codemirror_mode": {
    "name": "ipython",
    "version": 3
   },
   "file_extension": ".py",
   "mimetype": "text/x-python",
   "name": "python",
   "nbconvert_exporter": "python",
   "pygments_lexer": "ipython3",
   "version": "3.7.7"
  }
 },
 "nbformat": 4,
 "nbformat_minor": 4
}
