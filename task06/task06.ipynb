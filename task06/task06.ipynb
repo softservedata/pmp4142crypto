{
 "cells": [
  {
   "cell_type": "code",
   "execution_count": 154,
   "metadata": {},
   "outputs": [],
   "source": [
    "import numpy as np"
   ]
  },
  {
   "cell_type": "code",
   "execution_count": null,
   "metadata": {},
   "outputs": [],
   "source": []
  },
  {
   "cell_type": "code",
   "execution_count": 346,
   "metadata": {},
   "outputs": [],
   "source": [
    "class RSA():\n",
    "    def __init__(self):\n",
    "        self.bits = 16\n",
    "        self.block_size = 4\n",
    "        \n",
    "    def primes_in_range(self, x, y):\n",
    "        for n in range(x, y):\n",
    "            isPrime = True\n",
    "\n",
    "            for num in range(2, n):\n",
    "                if n % num == 0:\n",
    "                    isPrime = False\n",
    "\n",
    "            if isPrime:\n",
    "                return n\n",
    "\n",
    "        return None\n",
    "    \n",
    "    def random_prime(self, bits):\n",
    "        prime_list = self.primes_in_range(2**bits, 2**bits+1000)\n",
    "        return np.random.choice(prime_list)\n",
    "    \n",
    "    def generate_keys(self):      \n",
    "#         p = self.random_prime(self.bits)\n",
    "#         q = self.random_prime(self.bits)\n",
    "#         e = self.random_prime(self.bits)\n",
    "        p = 1299359  \n",
    "        q = 1297421\n",
    "        e = 173\n",
    "        n = p*q\n",
    "        phi = (p-1)*(q-1)\n",
    "        d = self.modinv(e, phi)\n",
    "        \n",
    "        private_key = {'mod': n, 'key': d}\n",
    "        public_key = {'mod': n, 'key': e}\n",
    "        return private_key, public_key\n",
    "\n",
    "    def encrypt(self, plaintext, public_key):\n",
    "        blocks = [plaintext[i:i+self.block_size] for i in range(0, len(plaintext), self.block_size)]\n",
    "        diff = self.block_size - len(blocks[-1]) \n",
    "        blocks[-1] = blocks[-1] + ' '*diff\n",
    "        encrypted_blocks = []\n",
    "        e = int(public_key[\"key\"])\n",
    "        n = int(public_key[\"mod\"])\n",
    "\n",
    "        for block in blocks:\n",
    "            m = int.from_bytes(bytearray(block.encode()), byteorder='big', signed=False) \n",
    "            c = pow(m, e, n)\n",
    "            encrypted_blocks.append(str(c))       \n",
    "        return ' '.join(encrypted_blocks)\n",
    "    \n",
    "    def decrypt(self, ciphertext, private_key):\n",
    "        encrypted_blocks = ciphertext.split(' ')\n",
    "        res = ''\n",
    "        d = int(private_key[\"key\"])\n",
    "        n = int(private_key[\"mod\"])\n",
    "        \n",
    "        for block in encrypted_blocks:  \n",
    "            m = pow(int(block), d, n)\n",
    "            res += int.to_bytes(m, length=self.block_size, byteorder='big', signed=False).decode()  \n",
    "            \n",
    "        return res\n",
    "    \n",
    "    def egcd(self, n: int, m: int):\n",
    "        \"\"\"\n",
    "        Extended Euclidean Algorithm \n",
    "        \"\"\"\n",
    "        if m == 0:\n",
    "            return n, 0, 1\n",
    "\n",
    "        gcd, x, y = self.egcd(m, n % m)\n",
    "\n",
    "        x1 = y - (n//m) * x\n",
    "        y1 = x\n",
    "        return gcd, x1, y1\n",
    "\n",
    "    def modinv(self, a: int, m: int): \n",
    "        \"\"\"\n",
    "        D(x)=a^-1 * (x - b) mod m\n",
    "        a: key\n",
    "        m: mod %\n",
    "        \"\"\"\n",
    "        gcd, x, y = self.egcd(a, m) \n",
    "        if gcd != 1:\n",
    "            return None\n",
    "        else: \n",
    "            return y % m"
   ]
  },
  {
   "cell_type": "code",
   "execution_count": null,
   "metadata": {},
   "outputs": [],
   "source": []
  },
  {
   "cell_type": "code",
   "execution_count": 347,
   "metadata": {},
   "outputs": [],
   "source": [
    "rsa = RSA()"
   ]
  },
  {
   "cell_type": "code",
   "execution_count": 348,
   "metadata": {},
   "outputs": [],
   "source": [
    "private_key, public_key = rsa.generate_keys()"
   ]
  },
  {
   "cell_type": "code",
   "execution_count": 349,
   "metadata": {},
   "outputs": [
    {
     "data": {
      "text/plain": [
       "{'mod': 1685815653139, 'key': 204636266957}"
      ]
     },
     "execution_count": 349,
     "metadata": {},
     "output_type": "execute_result"
    }
   ],
   "source": [
    "private_key"
   ]
  },
  {
   "cell_type": "code",
   "execution_count": 350,
   "metadata": {},
   "outputs": [],
   "source": [
    "ciphertext = rsa.encrypt(\"helolsc sdc\", public_key)"
   ]
  },
  {
   "cell_type": "code",
   "execution_count": 351,
   "metadata": {},
   "outputs": [
    {
     "data": {
      "text/plain": [
       "'helolsc sdc '"
      ]
     },
     "execution_count": 351,
     "metadata": {},
     "output_type": "execute_result"
    }
   ],
   "source": [
    "rsa.decrypt(ciphertext, private_key)"
   ]
  },
  {
   "cell_type": "code",
   "execution_count": null,
   "metadata": {},
   "outputs": [],
   "source": []
  }
 ],
 "metadata": {
  "kernelspec": {
   "display_name": "Python 3",
   "language": "python",
   "name": "python3"
  },
  "language_info": {
   "codemirror_mode": {
    "name": "ipython",
    "version": 3
   },
   "file_extension": ".py",
   "mimetype": "text/x-python",
   "name": "python",
   "nbconvert_exporter": "python",
   "pygments_lexer": "ipython3",
   "version": "3.7.7"
  }
 },
 "nbformat": 4,
 "nbformat_minor": 4
}
