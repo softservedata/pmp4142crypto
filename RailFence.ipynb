{
 "metadata": {
  "language_info": {
   "codemirror_mode": {
    "name": "ipython",
    "version": 3
   },
   "file_extension": ".py",
   "mimetype": "text/x-python",
   "name": "python",
   "nbconvert_exporter": "python",
   "pygments_lexer": "ipython3",
   "version": "3.7.6-final"
  },
  "orig_nbformat": 2,
  "kernelspec": {
   "name": "python376jvsc74a57bd07c6009591694ee33185308d547f24a4453642edc715487b2fa7d499df03f9283",
   "display_name": "Python 3.7.6 32-bit"
  }
 },
 "nbformat": 4,
 "nbformat_minor": 2,
 "cells": [
  {
   "cell_type": "code",
   "execution_count": 1,
   "metadata": {},
   "outputs": [],
   "source": [
    "import math"
   ]
  },
  {
   "cell_type": "code",
   "execution_count": 13,
   "metadata": {},
   "outputs": [],
   "source": [
    "class RailFenceCipher:\n",
    "        \n",
    "    def encryptRailFence(self, text, height):\n",
    "        rail = [['\\n' for i in range(len(text))]\n",
    "                    for j in range(height)]\n",
    "        \n",
    "        cond = False\n",
    "        row, col = 0, 0\n",
    "        \n",
    "        for i in range(len(text)):\n",
    "            \n",
    "            if (row == 0) or (row == height - 1):\n",
    "                cond = not cond\n",
    "            \n",
    "            rail[row][col] = text[i]\n",
    "            col += 1\n",
    "            \n",
    "            if cond:\n",
    "                row += 1\n",
    "            else:\n",
    "                row -= 1\n",
    "        result = []\n",
    "        for i in range(height):\n",
    "            for j in range(len(text)):\n",
    "                if rail[i][j] != '\\n':\n",
    "                    result.append(rail[i][j])\n",
    "        return(\"\" . join(result))\n",
    "\n",
    "    def decryptRailFence(self, encodedText, height):\n",
    "        rail = [['\\n' for i in range(len(encodedText))] \n",
    "                    for j in range(height)]\n",
    "\n",
    "        cond = None\n",
    "        row, col = 0, 0\n",
    "        \n",
    "        for i in range(len(encodedText)):\n",
    "            if row == 0:\n",
    "                cond = True\n",
    "            if row == height - 1:\n",
    "                cond = False\n",
    "            \n",
    "            rail[row][col] = '*'\n",
    "            col += 1\n",
    "            \n",
    "            if cond:\n",
    "                row += 1\n",
    "            else:\n",
    "                row -= 1\n",
    "                \n",
    "        index = 0\n",
    "        for i in range(height):\n",
    "            for j in range(len(encodedText)):\n",
    "                if ((rail[i][j] == '*') and\n",
    "                (index < len(encodedText))):\n",
    "                    rail[i][j] = encodedText[index]\n",
    "                    index += 1\n",
    "            \n",
    "        result = []\n",
    "        row, col = 0, 0\n",
    "        for i in range(len(encodedText)):     \n",
    "            if row == 0:\n",
    "                cond = True\n",
    "            if row == height-1:\n",
    "                cond = False\n",
    "                \n",
    "            if (rail[row][col] != '*'):\n",
    "                result.append(rail[row][col])\n",
    "                col += 1\n",
    "                \n",
    "            if cond:\n",
    "                row += 1\n",
    "            else:\n",
    "                row -= 1\n",
    "        return(\"\".join(result))\n"
   ]
  },
  {
   "cell_type": "code",
   "execution_count": 16,
   "metadata": {},
   "outputs": [
    {
     "output_type": "stream",
     "name": "stdout",
     "text": [
      "sm etoetx\n"
     ]
    }
   ],
   "source": [
    "cipher = RailFenceCipher()\n",
    "print(cipher.encryptRailFence(\"some text\", 2))"
   ]
  },
  {
   "cell_type": "code",
   "execution_count": 18,
   "metadata": {},
   "outputs": [
    {
     "output_type": "stream",
     "name": "stdout",
     "text": [
      "some text\n"
     ]
    }
   ],
   "source": [
    "print(cipher.decryptRailFence(\"sm etoetx\", 2))"
   ]
  },
  {
   "cell_type": "code",
   "execution_count": null,
   "metadata": {},
   "outputs": [],
   "source": []
  }
 ]
}