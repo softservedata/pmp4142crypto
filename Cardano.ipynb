{
 "metadata": {
  "language_info": {
   "codemirror_mode": {
    "name": "ipython",
    "version": 3
   },
   "file_extension": ".py",
   "mimetype": "text/x-python",
   "name": "python",
   "nbconvert_exporter": "python",
   "pygments_lexer": "ipython3",
   "version": "3.7.6-final"
  },
  "orig_nbformat": 2,
  "kernelspec": {
   "name": "python376jvsc74a57bd07c6009591694ee33185308d547f24a4453642edc715487b2fa7d499df03f9283",
   "display_name": "Python 3.7.6 32-bit"
  }
 },
 "nbformat": 4,
 "nbformat_minor": 2,
 "cells": [
  {
   "cell_type": "code",
   "execution_count": 1,
   "metadata": {},
   "outputs": [],
   "source": [
    "import numpy as np"
   ]
  },
  {
   "cell_type": "code",
   "execution_count": 2,
   "metadata": {},
   "outputs": [],
   "source": [
    "class CardanoCipher:\n",
    "    def __init__(self):\n",
    "        self.n = 0\n",
    "        self.m = 0\n",
    "        \n",
    "    def encrypt(self, plaintext: str, grille: np.ndarray):\n",
    "        self.n, self.m = grille.shape[0], grille.shape[1]\n",
    "        self.grille_coordinates = self._create_grill_indecies(grille)\n",
    "        \n",
    "        plaintext = plaintext.replace(' ', '') \n",
    "        ciphertext = \"\"\n",
    "\n",
    "        for substr in self._create_substrings(plaintext, grille):\n",
    "            ciphertext_part = self._encrypt_by_grille(substr, grille)\n",
    "            ciphertext += ciphertext_part\n",
    "\n",
    "        return ciphertext\n",
    "\n",
    "    def decrypt(self, ciphertext: str, grille: list):\n",
    "        self.n, self.m = grille.shape[0], grille.shape[1]\n",
    "        self.grille_coordinates = self._create_grill_indecies(grille)\n",
    "\n",
    "        plaintext = \"\"\n",
    "        \n",
    "        for substr in self._create_substrings(ciphertext, grille):\n",
    "            plaintext_part = self._decrypt_by_grille(substr, grille)\n",
    "            plaintext += plaintext_part\n",
    "\n",
    "        return plaintext\n",
    "    \n",
    "    def _encrypt_by_grille(self, plaintext: str, grille: np.ndarray):\n",
    "        ciphertext = [\"\"] * (self.n * self.m)\n",
    "        \n",
    "        for idx, coord in enumerate(self.grille_coordinates):\n",
    "            if coord and coord[2] < len(plaintext):\n",
    "                ciphertext[coord[0] * self.n + coord[1]] = plaintext[coord[2]]\n",
    "        \n",
    "        return \"\".join(ciphertext)\n",
    "    \n",
    "    def _decrypt_by_grille(self, ciphertext: str, grille: np.ndarray):\n",
    "        plaintext = [\"\"] * len(ciphertext)\n",
    "\n",
    "        count = 0\n",
    "        for idx, coord in enumerate(self.grille_coordinates):\n",
    "            if coord and coord[2] < len(plaintext):\n",
    "                plaintext[coord[2]] = ciphertext[count]\n",
    "                count += 1\n",
    "\n",
    "        return \"\".join(plaintext)    \n",
    "\n",
    "    def _create_grill_indecies(self, grille: list):\n",
    "        grille_coordinates = [None] * (self.n * self.m)\n",
    "\n",
    "        count = 0\n",
    "        for k in range(4):\n",
    "            for i in range(self.n):\n",
    "                for j in range(self.m):\n",
    "                    if grille[i][j]:\n",
    "                        grille_coordinates[i * self.n + j] = [i, j, count]\n",
    "                        count += 1\n",
    "\n",
    "            grille = self._rotate(grille)\n",
    "\n",
    "        return grille_coordinates\n",
    "    \n",
    "    def _create_substrings(self, text: str, grille: list):\n",
    "        values_per_iter = np.sum(grille == 1) * 4\n",
    "        num_iter = int(np.ceil(len(text) / values_per_iter))\n",
    "\n",
    "        substrings = []\n",
    "\n",
    "        for i in range(num_iter):\n",
    "            begin = i * values_per_iter\n",
    "            \n",
    "            if i != num_iter - 1:\n",
    "                end = (i+1)*values_per_iter\n",
    "            else:\n",
    "                end = None\n",
    "\n",
    "            substrings.append(text[begin:end])\n",
    "        \n",
    "        return substrings\n",
    "    \n",
    "    def _rotate(self, matrix: np.ndarray):\n",
    "        rotated_matrix =  np.zeros([self.n, self.m])\n",
    "        \n",
    "        for i in range(self.n):\n",
    "            for j in range(self.m):\n",
    "                rotated_matrix[i][j] = matrix[self.n - j - 1][i]\n",
    "        \n",
    "        return rotated_matrix"
   ]
  },
  {
   "cell_type": "code",
   "execution_count": 22,
   "metadata": {},
   "outputs": [],
   "source": [
    "grille = np.array([\n",
    "    [1, 0, 0, 0],\n",
    "    [0, 1, 0, 1],\n",
    "    [0, 0, 0, 0],\n",
    "    [0, 0, 0, 0]\n",
    "])\n",
    "plaintext = \"some text\""
   ]
  },
  {
   "cell_type": "code",
   "execution_count": 23,
   "metadata": {},
   "outputs": [
    {
     "output_type": "stream",
     "name": "stdout",
     "text": [
      "seotmxte\n"
     ]
    }
   ],
   "source": [
    "cardano = CardanoCipher()\n",
    "encrypted_text = cardano.encrypt(plaintext, grille)\n",
    "print(encrypted_text)"
   ]
  },
  {
   "cell_type": "code",
   "execution_count": 24,
   "metadata": {},
   "outputs": [
    {
     "output_type": "stream",
     "name": "stdout",
     "text": [
      "sometext\n"
     ]
    }
   ],
   "source": [
    "decrypted_text = cardano.decrypt(encrypted_text, grille)\n",
    "print(decrypted_text)"
   ]
  },
  {
   "cell_type": "code",
   "execution_count": null,
   "metadata": {},
   "outputs": [],
   "source": []
  }
 ]
}