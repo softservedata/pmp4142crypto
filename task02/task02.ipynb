{
 "cells": [
  {
   "cell_type": "code",
   "execution_count": 1,
   "metadata": {},
   "outputs": [],
   "source": [
    "f = open(\"text.txt\", \"r\")\n",
    "text = f.read()\n",
    "f.close()"
   ]
  },
  {
   "cell_type": "code",
   "execution_count": 2,
   "metadata": {},
   "outputs": [],
   "source": [
    "alpha = 3\n",
    "beta = 4\n",
    "m = 26"
   ]
  },
  {
   "cell_type": "code",
   "execution_count": 3,
   "metadata": {},
   "outputs": [],
   "source": [
    "alphabet = \"abcdefghijklmnopqrstuvwxyz\""
   ]
  },
  {
   "cell_type": "code",
   "execution_count": 4,
   "metadata": {},
   "outputs": [],
   "source": [
    "text = text.lower()"
   ]
  },
  {
   "cell_type": "code",
   "execution_count": 5,
   "metadata": {},
   "outputs": [],
   "source": [
    "y = \"\"\n",
    "for i in range(len(text)):\n",
    "    if text[i] == \" \":\n",
    "        y += \" \"\n",
    "        continue\n",
    "    y += alphabet[(alpha*(alphabet.index(text[i])) + beta) % m]"
   ]
  },
  {
   "cell_type": "code",
   "execution_count": 6,
   "metadata": {},
   "outputs": [
    {
     "data": {
      "text/plain": [
       "'ted ted esey hqzcrn jzq sudn oumrjecrg ted tduo jzq kumrjdcqg puielce ern kurgurerjce jzqdq lcpq jzq hlcrn jqvjg gqxedejqn jzqy lcpq cr huuioedigwdupq dcwzj ej jzq kuegj ut jzq gqoerjckg e ledwq lerwmewq ukqer e goell dcpqd reoqn nmnqr tlusg hy jzqcd xlekq ern gmxxlcqg cj scjz jzq rqkqggedy dqwqlcelce cj cg e xedencgqoejck kumrjdy cr szckz duegjqn xedjg ut gqrjqrkqg tly crju yumd oumjz qpqr jzq ellxusqdtml xucrjcrw zeg ru kurjdul ehumj jzq hlcrn jqvjg cj cg er elougj mrudjzuwdexzck lctq urq ney zusqpqd e goell lcrq ut hlcrn jqvj hy jzq reoq ut ludqo cxgmo nqkcnqn ju lqepq tud jzq ted sudln ut wdeooed jzq hcw uvouv enpcgqn zqd ruj ju nu gu hqkemgq jzqdq sqdq jzumgerng ut hen kuooeg scln amqgjcur oedig ern nqpcumg gqociulc hmj jzq lcjjlq hlcrn jqvj ncnrj lcgjqr gzq xekiqn zqd gqpqr pqdgelce xmj zqd crcjcel crju jzq hqlj ern oenq zqdgqlt ur jzq sey szqr gzq dqekzqn jzq tcdgj zcllg ut jzq cjelck oumrjecrg gzq zen e legj pcqs heki ur jzq giylcrq ut zqd zuoqjusr huuioedigwdupq jzq zqenlcrq ut elxzehqj pcllewq ern jzq gmhlcrq ut zqd usr duen jzq lcrq lerq xcjytml e dqjzudck amqgjcur der upqd zqd kzqqi jzqr'"
      ]
     },
     "execution_count": 6,
     "metadata": {},
     "output_type": "execute_result"
    }
   ],
   "source": [
    "y"
   ]
  },
  {
   "cell_type": "code",
   "execution_count": 7,
   "metadata": {},
   "outputs": [],
   "source": [
    "f = open(\"encoded.txt\", \"w\")\n",
    "f.write(y)\n",
    "f.close()"
   ]
  },
  {
   "cell_type": "code",
   "execution_count": null,
   "metadata": {},
   "outputs": [],
   "source": []
  },
  {
   "cell_type": "code",
   "execution_count": 8,
   "metadata": {},
   "outputs": [],
   "source": [
    "f = open(\"encoded.txt\", \"r\")\n",
    "etext = f.read()\n",
    "f.close()"
   ]
  },
  {
   "cell_type": "code",
   "execution_count": 9,
   "metadata": {},
   "outputs": [],
   "source": [
    "def gcdex(a, b):\n",
    "    if a == 0:\n",
    "        return b, 0, 1\n",
    "    else:\n",
    "        d, x, y = gcdex(b % a, a)\n",
    "        return d, y - x * (b // a), x"
   ]
  },
  {
   "cell_type": "code",
   "execution_count": 10,
   "metadata": {},
   "outputs": [],
   "source": [
    "def a_(a, b):\n",
    "    return gcdex(a, b)[1] % b"
   ]
  },
  {
   "cell_type": "code",
   "execution_count": 11,
   "metadata": {},
   "outputs": [],
   "source": [
    "a_1 = a_(alpha, m)\n",
    "x = \"\"\n",
    "for i in range(len(etext)):\n",
    "    if etext[i] == \" \":\n",
    "        x += \" \"\n",
    "        continue\n",
    "    x += alphabet[(a_1*(alphabet.index(etext[i]) + m - beta)) % m]"
   ]
  },
  {
   "cell_type": "code",
   "execution_count": 12,
   "metadata": {},
   "outputs": [
    {
     "data": {
      "text/plain": [
       "'far far away behind the word mountains far from the countries vokalia and consonantia there live the blind texts separated they live in bookmarksgrove right at the coast of the semantics a large language ocean a small river named duden flows by their place and supplies it with the necessary regelialia it is a paradisematic country in which roasted parts of sentences fly into your mouth even the allpowerful pointing has no control about the blind texts it is an almost unorthographic life one day however a small line of blind text by the name of lorem ipsum decided to leave for the far world of grammar the big oxmox advised her not to do so because there were thousands of bad commas wild question marks and devious semikoli but the little blind text didnt listen she packed her seven versalia put her initial into the belt and made herself on the way when she reached the first hills of the italic mountains she had a last view back on the skyline of her hometown bookmarksgrove the headline of alphabet village and the subline of her own road the line lane pityful a rethoric question ran over her cheek then'"
      ]
     },
     "execution_count": 12,
     "metadata": {},
     "output_type": "execute_result"
    }
   ],
   "source": [
    "x"
   ]
  },
  {
   "cell_type": "code",
   "execution_count": null,
   "metadata": {},
   "outputs": [],
   "source": []
  }
 ],
 "metadata": {
  "kernelspec": {
   "display_name": "Python 3",
   "language": "python",
   "name": "python3"
  },
  "language_info": {
   "codemirror_mode": {
    "name": "ipython",
    "version": 3
   },
   "file_extension": ".py",
   "mimetype": "text/x-python",
   "name": "python",
   "nbconvert_exporter": "python",
   "pygments_lexer": "ipython3",
   "version": "3.7.7"
  }
 },
 "nbformat": 4,
 "nbformat_minor": 4
}
