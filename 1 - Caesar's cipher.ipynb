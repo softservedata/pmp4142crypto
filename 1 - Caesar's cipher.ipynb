{
 "cells": [
  {
   "cell_type": "code",
   "execution_count": 1,
   "metadata": {},
   "outputs": [],
   "source": [
    "alphabet = \"abcdefghijklmnopqrstuvwxyzABCDEFGHIJKLMNOPQRSTUVWXYZ,.-'! \\n\""
   ]
  },
  {
   "cell_type": "markdown",
   "metadata": {},
   "source": [
    "# Encrypt and decrypt"
   ]
  },
  {
   "cell_type": "code",
   "execution_count": 2,
   "metadata": {},
   "outputs": [],
   "source": [
    "def encrypt(text, key):\n",
    "  result = \"\"\n",
    "  n = len(alphabet)\n",
    "  \n",
    "  for i in range(len(text)):\n",
    "    c = text[i]\n",
    "    \n",
    "    result += alphabet[(alphabet.index(c) + key) % n]\n",
    "    \n",
    "  return result"
   ]
  },
  {
   "cell_type": "code",
   "execution_count": 3,
   "metadata": {},
   "outputs": [],
   "source": [
    "def decrypt(text, key):\n",
    "  result = \"\"\n",
    "  n = len(alphabet)\n",
    "  \n",
    "  for i in range(len(text)):\n",
    "    c = text[i]\n",
    "    \n",
    "    result += alphabet[(alphabet.index(c) - key) % n]\n",
    "    \n",
    "  return result"
   ]
  },
  {
   "cell_type": "code",
   "execution_count": 4,
   "metadata": {},
   "outputs": [
    {
     "data": {
      "text/plain": [
       "'RovvydiKvvh'"
      ]
     },
     "execution_count": 4,
     "metadata": {},
     "output_type": "execute_result"
    }
   ],
   "source": [
    "encrypted_text = encrypt(\"Hello, All!\", 10)\n",
    "encrypted_text"
   ]
  },
  {
   "cell_type": "code",
   "execution_count": 5,
   "metadata": {},
   "outputs": [
    {
     "data": {
      "text/plain": [
       "'Hello, All!'"
      ]
     },
     "execution_count": 5,
     "metadata": {},
     "output_type": "execute_result"
    }
   ],
   "source": [
    "decrypt(encrypted_text, 10)"
   ]
  },
  {
   "cell_type": "markdown",
   "metadata": {},
   "source": [
    "# Hack"
   ]
  },
  {
   "cell_type": "code",
   "execution_count": 6,
   "metadata": {},
   "outputs": [],
   "source": [
    "text = '''When forty winters shall besiege thy brow,\n",
    "And dig deep trenches in thy beauty's field,\n",
    "Thy youth's proud livery, so gazed on now,\n",
    "Will be a tattered weed of small worth held.\n",
    "Then being asked where all thy beauty lies,\n",
    "Where all the treasure of thy lusty days,\n",
    "To say within thine own deep-sunken eyes\n",
    "Were an all-eating shame and thriftless praise.\n",
    "How much more praise deserved thy beauty's use\n",
    "If thou couldst answer 'This fair child of mine\n",
    "Shall sum my count, and make my old excuse',\n",
    "Proving his beauty by succession thine.\n",
    "This were to be new made when thou art old,\n",
    "And see thy blood warm when thou feel'st it cold.'''"
   ]
  },
  {
   "cell_type": "code",
   "execution_count": 7,
   "metadata": {},
   "outputs": [
    {
     "name": "stdout",
     "output_type": "stream",
     "text": [
      "gyvEpwFIKPpNzEKvIJpJyrCCpsvJzvxvpKyPpsIFNkqREupuzxpuvvGpKIvEtyvJpzEpKyPpsvrLKPnJpwzvCukqdyPpPFLKynJpGIFLupCzMvIPkpJFpxrQvupFEpEFNkqgzCCpsvprpKrKKvIvupNvvupFwpJDrCCpNFIKypyvCulqdyvEpsvzExprJBvupNyvIvprCCpKyPpsvrLKPpCzvJkqgyvIvprCCpKyvpKIvrJLIvpFwpKyPpCLJKPpurPJkqdFpJrPpNzKyzEpKyzEvpFNEpuvvGmJLEBvEpvPvJqgvIvprEprCCmvrKzExpJyrDvprEupKyIzwKCvJJpGIrzJvlqYFNpDLtypDFIvpGIrzJvpuvJvIMvupKyPpsvrLKPnJpLJvqZwpKyFLptFLCuJKprEJNvIpndyzJpwrzIptyzCupFwpDzEvqcyrCCpJLDpDPptFLEKkprEupDrBvpDPpFCupvOtLJvnkq\n",
      "IFMzExpyzJpsvrLKPpsPpJLttvJJzFEpKyzEvlqdyzJpNvIvpKFpsvpEvNpDruvpNyvEpKyFLprIKpFCukqREupJvvpKyPpsCFFupNrIDpNyvEpKyFLpwvvCnJKpzKptFCul\n"
     ]
    }
   ],
   "source": [
    "encrypted_text = encrypt(text, 17)\n",
    "print(encrypted_text)"
   ]
  },
  {
   "cell_type": "code",
   "execution_count": 8,
   "metadata": {},
   "outputs": [],
   "source": [
    "source_to_compare = '''Let me not to the marriage of true minds\n",
    "Admit impediments; love is not love\n",
    "Which alters when it alteration finds,\n",
    "Or bends with the remover to remove.\n",
    "O no, it is an ever-fixed mark\n",
    "That looks on tempests and is never shaken;\n",
    "It is the star to every wand'ring bark,\n",
    "Whose worth's unknown, although his height be taken.\n",
    "Love's not Time's fool, though rosy lips and cheeks\n",
    "Within his bending sickle's compass come;\n",
    "Love alters not with his brief hours and weeks,\n",
    "But bears it out even to the edge of doom.\n",
    "If this be error and upon me proved,\n",
    "I never writ, nor no man ever loved.'''"
   ]
  },
  {
   "cell_type": "code",
   "execution_count": 9,
   "metadata": {},
   "outputs": [],
   "source": [
    "def get_frequencies(text):\n",
    "  frequencies = dict()\n",
    "\n",
    "  for c in text:\n",
    "    if(frequencies.get(c) == None):\n",
    "      frequencies[c] = 1\n",
    "    else:\n",
    "      frequencies[c] += 1\n",
    "\n",
    "  return frequencies"
   ]
  },
  {
   "cell_type": "code",
   "execution_count": 10,
   "metadata": {},
   "outputs": [],
   "source": [
    "def hack(text, source_to_compare=source_to_compare):\n",
    "  f_source, f_en_text = get_frequencies(source_to_compare), get_frequencies(encrypted_text)\n",
    "  \n",
    "  return (alphabet.index(max(f_en_text, key=f_en_text.get)) \\\n",
    "          - alphabet.index(max(f_source, key=f_source.get)) \\\n",
    "         ) % len(alphabet)"
   ]
  },
  {
   "cell_type": "code",
   "execution_count": null,
   "metadata": {},
   "outputs": [],
   "source": []
  },
  {
   "cell_type": "code",
   "execution_count": 11,
   "metadata": {},
   "outputs": [
    {
     "data": {
      "text/plain": [
       "17"
      ]
     },
     "execution_count": 11,
     "metadata": {},
     "output_type": "execute_result"
    }
   ],
   "source": [
    "hacked_key = hack(text)\n",
    "hacked_key"
   ]
  },
  {
   "cell_type": "code",
   "execution_count": 12,
   "metadata": {},
   "outputs": [
    {
     "name": "stdout",
     "output_type": "stream",
     "text": [
      "When forty winters shall besiege thy brow,\n",
      "And dig deep trenches in thy beauty's field,\n",
      "Thy youth's proud livery, so gazed on now,\n",
      "Will be a tattered weed of small worth held.\n",
      "Then being asked where all thy beauty lies,\n",
      "Where all the treasure of thy lusty days,\n",
      "To say within thine own deep-sunken eyes\n",
      "Were an all-eating shame and thriftless praise.\n",
      "How much more praise deserved thy beauty's use\n",
      "If thou couldst answer 'This fair child of mine\n",
      "Shall sum my count, and make my old excuse',\n",
      "Proving his beauty by succession thine.\n",
      "This were to be new made when thou art old,\n",
      "And see thy blood warm when thou feel'st it cold.\n"
     ]
    }
   ],
   "source": [
    "print(decrypt(encrypted_text, hacked_key))"
   ]
  },
  {
   "cell_type": "code",
   "execution_count": null,
   "metadata": {},
   "outputs": [],
   "source": []
  }
 ],
 "metadata": {
  "kernelspec": {
   "display_name": "Python 3",
   "language": "python",
   "name": "python3"
  },
  "language_info": {
   "codemirror_mode": {
    "name": "ipython",
    "version": 3
   },
   "file_extension": ".py",
   "mimetype": "text/x-python",
   "name": "python",
   "nbconvert_exporter": "python",
   "pygments_lexer": "ipython3",
   "version": "3.8.2"
  }
 },
 "nbformat": 4,
 "nbformat_minor": 4
}
