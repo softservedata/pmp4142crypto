{
 "cells": [
  {
   "cell_type": "code",
   "execution_count": 1,
   "metadata": {},
   "outputs": [],
   "source": [
    "alphabet = \"abcdefghijklmnopqrstuvwxyzABCDEFGHIJKLMNOPQRSTUVWXYZ,.-'! \\n\""
   ]
  },
  {
   "cell_type": "code",
   "execution_count": 2,
   "metadata": {},
   "outputs": [],
   "source": [
    "text = '''When forty winters shall besiege thy brow,\n",
    "And dig deep trenches in thy beauty's field,\n",
    "Thy youth's proud livery, so gazed on now,\n",
    "Will be a tattered weed of small worth held.\n",
    "Then being asked where all thy beauty lies,\n",
    "Where all the treasure of thy lusty days,\n",
    "To say within thine own deep-sunken eyes\n",
    "Were an all-eating shame and thriftless praise.\n",
    "How much more praise deserved thy beauty's use\n",
    "If thou couldst answer 'This fair child of mine\n",
    "Shall sum my count, and make my old excuse',\n",
    "Proving his beauty by succession thine.\n",
    "This were to be new made when thou art old,\n",
    "And see thy blood warm when thou feel'st it cold.'''"
   ]
  },
  {
   "cell_type": "code",
   "execution_count": 3,
   "metadata": {},
   "outputs": [],
   "source": [
    "keyword = 'cucumber'"
   ]
  },
  {
   "cell_type": "code",
   "execution_count": 4,
   "metadata": {},
   "outputs": [],
   "source": [
    "def encrypt(text, keyword, alphabet=alphabet):\n",
    "\n",
    "  key = keyword * (len(text)//len(keyword) + 1)\n",
    "  key = key[:len(text)]\n",
    "\n",
    "  encrypted = \"\"\n",
    "  for p_char, k_char in zip(text, key):\n",
    "    encrypted += alphabet[((alphabet.index(p_char) + alphabet.index(k_char)) % len(alphabet))]\n",
    "  \n",
    "  return encrypted"
   ]
  },
  {
   "cell_type": "code",
   "execution_count": 5,
   "metadata": {},
   "outputs": [],
   "source": [
    "def decrypt(encrypted, keyword, alphabet=alphabet):\n",
    "  key = keyword * (len(encrypted)//len(keyword) + 1)\n",
    "  key = key[:len(encrypted)]\n",
    "\n",
    "  decrypted = \"\"\n",
    "  for c_char, k_char in zip(encrypted, key):\n",
    "    decrypted += alphabet[((alphabet.index(c_char) - alphabet.index(k_char) + len(alphabet)) % len(alphabet))]\n",
    "    \n",
    "  return decrypted"
   ]
  },
  {
   "cell_type": "code",
   "execution_count": 6,
   "metadata": {},
   "outputs": [
    {
     "name": "stdout",
     "output_type": "stream",
     "text": [
      "YBgHkgsIvSaQuoxvtMaMtbpCavgMufkvaNjSkcvFynbUzecukAaxqftpvLgHoiiJaCpsFiCpdycOFzaJazkyxe!qVBAsKpyKjqusBssLfsnCHfvP-suIkheQgxaIz\n",
      "rFynbjumppdyaukueKvytyp\n",
      "AvgxaIr\n",
      "wDcFnsIpvKjsjyxe qVBgHkcizpAauEliuaQjyDfcrnFaNtzcsguwNK\n",
      "pzgM-tbiiIgscFx\n",
      "xygsvLqbwLtyaIr\n",
      "xyAsnOEuCpfuAMfaXFaMcSkxmKjCpsFimEgsqQz\n",
      "hvgJ!MGoovpsgSqtdggLgsmocrnF!ymumEisuBmnipcHfsFivzhNnyEtcGtukMq-dYqQaGGdlpoItykqvrkMgspfwvtPgxkulPavguGuCnuswMqaMwaNjIG\n",
      "gFwFfMF\n",
      "eEuQgLk!XykMazmjvpeBkFp\n",
      "swaGkHqaWycFnsEvqpoSawAvrK-scHp\n",
      "qrmyaGK\n",
      "sCfsgRovwv nbcDpzzpAaButcsguwNK\n",
      "fPaMwwofwJkIpsFimEgobgtjwpyytykuspdyaHqxcDcxgsIiiEaNjIG\n",
      "eIvsqFp.dRpxaMqfcKjSavxpsuaQcLy\n",
      "AygHaNtpyphygFitxpkNawAmhl\n"
     ]
    }
   ],
   "source": [
    "encrypted = encrypt(text, keyword)\n",
    "print(encrypted)"
   ]
  },
  {
   "cell_type": "code",
   "execution_count": 7,
   "metadata": {},
   "outputs": [
    {
     "name": "stdout",
     "output_type": "stream",
     "text": [
      "When forty winters shall besiege thy brow,\n",
      "And dig deep trenches in thy beauty's field,\n",
      "Thy youth's proud livery, so gazed on now,\n",
      "Will be a tattered weed of small worth held.\n",
      "Then being asked where all thy beauty lies,\n",
      "Where all the treasure of thy lusty days,\n",
      "To say within thine own deep-sunken eyes\n",
      "Were an all-eating shame and thriftless praise.\n",
      "How much more praise deserved thy beauty's use\n",
      "If thou couldst answer 'This fair child of mine\n",
      "Shall sum my count, and make my old excuse',\n",
      "Proving his beauty by succession thine.\n",
      "This were to be new made when thou art old,\n",
      "And see thy blood warm when thou feel'st it cold.\n"
     ]
    }
   ],
   "source": [
    "decrypted = decrypt(encrypted, keyword)\n",
    "print(decrypted)"
   ]
  },
  {
   "cell_type": "code",
   "execution_count": null,
   "metadata": {},
   "outputs": [],
   "source": []
  }
 ],
 "metadata": {
  "kernelspec": {
   "display_name": "Python 3",
   "language": "python",
   "name": "python3"
  },
  "language_info": {
   "codemirror_mode": {
    "name": "ipython",
    "version": 3
   },
   "file_extension": ".py",
   "mimetype": "text/x-python",
   "name": "python",
   "nbconvert_exporter": "python",
   "pygments_lexer": "ipython3",
   "version": "3.8.2"
  }
 },
 "nbformat": 4,
 "nbformat_minor": 4
}
