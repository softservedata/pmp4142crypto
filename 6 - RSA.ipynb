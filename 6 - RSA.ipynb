{
 "cells": [
  {
   "cell_type": "code",
   "execution_count": 1,
   "metadata": {},
   "outputs": [],
   "source": [
    "import numpy as np"
   ]
  },
  {
   "cell_type": "code",
   "execution_count": 2,
   "metadata": {},
   "outputs": [],
   "source": [
    "def euclid(a, m):\n",
    "  if m == 0:\n",
    "    return a, 0, 1\n",
    "  \n",
    "  e, x, y = euclid(m, a % m)\n",
    "\n",
    "  return e, y - (a//m) * x, x\n",
    "\n",
    "def modinv(a, m):\n",
    "  e, x, y = euclid(a, m) \n",
    "  return None if e != 1 else y % m"
   ]
  },
  {
   "cell_type": "code",
   "execution_count": 3,
   "metadata": {},
   "outputs": [],
   "source": [
    "def generate_keys(p, q, e):\n",
    "  n = p*q\n",
    "  phi = (p-1)*(q-1)\n",
    "  d = modinv(e, phi)\n",
    "\n",
    "  private_key = {'mod': n, 'key': d}\n",
    "  public_key = {'mod': n, 'key': e}\n",
    "  return private_key, public_key"
   ]
  },
  {
   "cell_type": "code",
   "execution_count": 4,
   "metadata": {},
   "outputs": [],
   "source": [
    "def encrypt(plaintext, public_key, block_size):\n",
    "  blocks = [plaintext[i:i+block_size] for i in range(0, len(plaintext), block_size)]\n",
    "  diff = block_size - len(blocks[-1]) \n",
    "  blocks[-1] = blocks[-1] + ' '*diff\n",
    "  encrypted_blocks = []\n",
    "  e = int(public_key[\"key\"])\n",
    "  n = int(public_key[\"mod\"])\n",
    "\n",
    "  for block in blocks:\n",
    "      m = int.from_bytes(bytearray(block.encode()), byteorder='big', signed=False) \n",
    "      c = pow(m, e, n)\n",
    "      encrypted_blocks.append(str(c))       \n",
    "  return ' '.join(encrypted_blocks)"
   ]
  },
  {
   "cell_type": "code",
   "execution_count": 5,
   "metadata": {},
   "outputs": [],
   "source": [
    "def decrypt(ciphertext, private_key, block_size):\n",
    "  encrypted_blocks = ciphertext.split(' ')\n",
    "  res = ''\n",
    "  d = int(private_key[\"key\"])\n",
    "  n = int(private_key[\"mod\"])\n",
    "\n",
    "  for block in encrypted_blocks:  \n",
    "    m = pow(int(block), d, n)\n",
    "    res += int.to_bytes(m, length=block_size, byteorder='big', signed=False).decode()  \n",
    "\n",
    "  return res"
   ]
  },
  {
   "cell_type": "code",
   "execution_count": null,
   "metadata": {},
   "outputs": [],
   "source": []
  },
  {
   "cell_type": "code",
   "execution_count": 6,
   "metadata": {},
   "outputs": [],
   "source": [
    "p = 1299359\n",
    "q = 1297421\n",
    "e = 173\n",
    "\n",
    "bits = 16\n",
    "block_size = 4"
   ]
  },
  {
   "cell_type": "code",
   "execution_count": 7,
   "metadata": {},
   "outputs": [
    {
     "name": "stdout",
     "output_type": "stream",
     "text": [
      "{'mod': 1685815653139, 'key': 204636266957} {'mod': 1685815653139, 'key': 173}\n"
     ]
    }
   ],
   "source": [
    "private_key, public_key = generate_keys(p, q, e)\n",
    "print(private_key, public_key)"
   ]
  },
  {
   "cell_type": "code",
   "execution_count": 8,
   "metadata": {},
   "outputs": [
    {
     "data": {
      "text/plain": [
       "'1323614491506 438332046932'"
      ]
     },
     "execution_count": 8,
     "metadata": {},
     "output_type": "execute_result"
    }
   ],
   "source": [
    "ciphertext = encrypt(\"cucumber\", public_key, block_size)\n",
    "ciphertext"
   ]
  },
  {
   "cell_type": "code",
   "execution_count": 9,
   "metadata": {},
   "outputs": [
    {
     "data": {
      "text/plain": [
       "'cucumber'"
      ]
     },
     "execution_count": 9,
     "metadata": {},
     "output_type": "execute_result"
    }
   ],
   "source": [
    "plaintext = decrypt(ciphertext, private_key, block_size)\n",
    "plaintext"
   ]
  },
  {
   "cell_type": "code",
   "execution_count": null,
   "metadata": {},
   "outputs": [],
   "source": []
  }
 ],
 "metadata": {
  "kernelspec": {
   "display_name": "Python 3",
   "language": "python",
   "name": "python3"
  },
  "language_info": {
   "codemirror_mode": {
    "name": "ipython",
    "version": 3
   },
   "file_extension": ".py",
   "mimetype": "text/x-python",
   "name": "python",
   "nbconvert_exporter": "python",
   "pygments_lexer": "ipython3",
   "version": "3.8.2"
  }
 },
 "nbformat": 4,
 "nbformat_minor": 4
}
