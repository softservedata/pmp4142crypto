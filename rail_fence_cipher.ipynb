{
 "cells": [
  {
   "cell_type": "code",
   "execution_count": 1,
   "metadata": {},
   "outputs": [],
   "source": [
    "import numpy as np"
   ]
  },
  {
   "cell_type": "code",
   "execution_count": 2,
   "metadata": {},
   "outputs": [],
   "source": [
    "class RailFenceCipher:\n",
    "    def __init__(self):\n",
    "        pass\n",
    "        \n",
    "    def encrypt(self, plaintext: str, height: int, verbose=False):\n",
    "        length = len(plaintext)\n",
    "        fence = np.empty((height, length), dtype=str).tolist()\n",
    "\n",
    "        amplitude = self.get_amplitude(height)\n",
    "        amplitude_len = len(amplitude)\n",
    "        \n",
    "        for i, char in enumerate(plaintext):\n",
    "            height_idx = amplitude[i%(amplitude_len-1)]\n",
    "            fence[height_idx][i] = char \n",
    "\n",
    "        if verbose:\n",
    "            print([print(i) for i in fence])\n",
    "            \n",
    "        return \"\".join(\"\".join(stick) for stick in fence)\n",
    "\n",
    "    def decrypt(self, ciphertext: str, height: int, verbose=False):\n",
    "        length = len(ciphertext)\n",
    "        fence = np.empty((height, length), dtype=str).tolist()\n",
    "        \n",
    "        amplitude = self.get_amplitude(height)\n",
    "        amplitude_len = len(amplitude)\n",
    "                \n",
    "        index = 0\n",
    "        for i in range(height):\n",
    "            for j in range(length):\n",
    "                height_idx = amplitude[j%(amplitude_len-1)]\n",
    "                if i == height_idx:\n",
    "                    fence[height_idx][j] = ciphertext[index]\n",
    "                    index += 1\n",
    "\n",
    "        plaintext = \"\"\n",
    "        for i, char in enumerate(ciphertext):\n",
    "            height_idx = amplitude[i%(amplitude_len-1)]\n",
    "            plaintext += fence[height_idx][i]\n",
    "\n",
    "        if verbose:\n",
    "            print([print(i) for i in fence])\n",
    "        \n",
    "        return plaintext\n",
    "\n",
    "    def brute_force_attack(self, ciphertext: str, height_range: list = [0, 5]):\n",
    "        if height_range[1] < height_range[0] and height_range[0] < 2:\n",
    "            raise Exception(\"Incorrect height\")\n",
    "\n",
    "        for i in range(height_range[0], height_range[1] + 1, 1):\n",
    "            print(f\"Fence height: {i}\\n{'-'*30}\")\n",
    "            print(self.decrypt(ciphertext, i))\n",
    "\n",
    "    def get_amplitude(self, height):\n",
    "        amplitude = []\n",
    "        height_slider = 0\n",
    "\n",
    "        while amplitude.count(0) != 2:\n",
    "            amplitude.append(height_slider)\n",
    "            \n",
    "            if height_slider == 0:\n",
    "                slider_direction = 1\n",
    "            elif height_slider == height - 1:\n",
    "                slider_direction = -1\n",
    "\n",
    "            height_slider += slider_direction\n",
    "        \n",
    "        return amplitude"
   ]
  },
  {
   "cell_type": "code",
   "execution_count": 13,
   "metadata": {},
   "outputs": [],
   "source": [
    "plaintext = \"\"\"Evil is Evil. Lesser, greater, middling. \n",
    "Makes no difference. The degree is arbitary. The definition’s blurred. \n",
    "If I’m to choose between one evil and another… I’d rather not choose at all.\n",
    "\"\"\"\n",
    "height = 5"
   ]
  },
  {
   "cell_type": "markdown",
   "metadata": {},
   "source": [
    "### Encrypt"
   ]
  },
  {
   "cell_type": "code",
   "execution_count": 14,
   "metadata": {},
   "outputs": [
    {
     "name": "stdout",
     "output_type": "stream",
     "text": [
      "['E', '', '', '', '', '', '', '', 'E', '', '', '', '', '', '', '', 's', '', '', '', '', '', '', '', 'e', '', '', '', '', '', '', '', 'i', '', '', '', '', '', '', '', ' ', '', '', '', '', '', '', '', 'n', '', '', '', '', '', '', '', 'r', '', '', '', '', '', '', '', 'h', '', '', '', '', '', '', '', 'e', '', '', '', '', '', '', '', 'i', '', '', '', '', '', '', '', 'h', '', '', '', '', '', '', '', 'i', '', '', '', '', '', '', '', 'b', '', '', '', '', '', '', '', ' ', '', '', '', '', '', '', '', ' ', '', '', '', '', '', '', '', 's', '', '', '', '', '', '', '', 'e', '', '', '', '', '', '', '', 'v', '', '', '', '', '', '', '', 'a', '', '', '', '', '', '', '', ' ', '', '', '', '', '', '', '', 'h', '', '', '', '', '', '', '', 'c', '', '', '', '', '', '', '', 't', '', '', '', '', '', '']\n",
      "['', 'v', '', '', '', '', '', ' ', '', 'v', '', '', '', '', '', 'e', '', 's', '', '', '', '', '', 'r', '', 'a', '', '', '', '', '', 'm', '', 'd', '', '', '', '', '', '.', '', '\\n', '', '', '', '', '', ' ', '', 'o', '', '', '', '', '', 'e', '', 'e', '', '', '', '', '', 'T', '', 'e', '', '', '', '', '', 'e', '', ' ', '', '', '', '', '', 'b', '', 't', '', '', '', '', '', 'T', '', 'e', '', '', '', '', '', 'n', '', 't', '', '', '', '', '', ' ', '', 'l', '', '', '', '', '', '.', '', '\\n', '', '', '', '', '', 'm', '', 't', '', '', '', '', '', 'o', '', 'e', '', '', '', '', '', 'e', '', 'n', '', '', '', '', '', 'e', '', 'i', '', '', '', '', '', ' ', '', 'n', '', '', '', '', '', '…', '', 'I', '', '', '', '', '', 't', '', 'e', '', '', '', '', '', ' ', '', 'h', '', '', '', '', '', 'a', '', ' ', '', '', '', '', '']\n",
      "['', '', 'i', '', '', '', 's', '', '', '', 'i', '', '', '', 'L', '', '', '', 'e', '', '', '', 'g', '', '', '', 't', '', '', '', ' ', '', '', '', 'd', '', '', '', 'g', '', '', '', 'M', '', '', '', 's', '', '', '', ' ', '', '', '', 'f', '', '', '', 'n', '', '', '', ' ', '', '', '', ' ', '', '', '', 'r', '', '', '', 'i', '', '', '', 'r', '', '', '', 'a', '', '', '', ' ', '', '', '', ' ', '', '', '', 'i', '', '', '', 'i', '', '', '', 's', '', '', '', 'u', '', '', '', 'd', '', '', '', 'I', '', '', '', '’', '', '', '', 'o', '', '', '', 'o', '', '', '', ' ', '', '', '', 'w', '', '', '', ' ', '', '', '', ' ', '', '', '', 'l', '', '', '', 'd', '', '', '', 'o', '', '', '', 'r', '', '', '', '’', '', '', '', 'a', '', '', '', 'r', '', '', '', 't', '', '', '', 'o', '', '', '', ' ', '', '', '', 'a', '', '', '', '\\n']\n",
      "['', '', '', 'l', '', 'i', '', '', '', '', '', 'l', '', ' ', '', '', '', '', '', 'r', '', ' ', '', '', '', '', '', 'e', '', ',', '', '', '', '', '', 'l', '', 'n', '', '', '', '', '', 'a', '', 'e', '', '', '', '', '', 'd', '', 'f', '', '', '', '', '', 'c', '', '.', '', '', '', '', '', 'd', '', 'g', '', '', '', '', '', 's', '', 'a', '', '', '', '', '', 'r', '', '.', '', '', '', '', '', 'd', '', 'f', '', '', '', '', '', 'o', '', '’', '', '', '', '', '', 'r', '', 'e', '', '', '', '', '', 'f', '', 'I', '', '', '', '', '', ' ', '', 'h', '', '', '', '', '', 'b', '', 't', '', '', '', '', '', 'o', '', 'e', '', '', '', '', '', ' ', '', 'n', '', '', '', '', '', 't', '', 'e', '', '', '', '', '', 'd', '', 'r', '', '', '', '', '', ' ', '', 'o', '', '', '', '', '', 'o', '', 'e', '', '', '', '', '', 'l', '', '.', '']\n",
      "['', '', '', '', ' ', '', '', '', '', '', '', '', '.', '', '', '', '', '', '', '', ',', '', '', '', '', '', '', '', 'r', '', '', '', '', '', '', '', 'i', '', '', '', '', '', '', '', 'k', '', '', '', '', '', '', '', 'i', '', '', '', '', '', '', '', 'e', '', '', '', '', '', '', '', 'e', '', '', '', '', '', '', '', ' ', '', '', '', '', '', '', '', 'y', '', '', '', '', '', '', '', 'e', '', '', '', '', '', '', '', 'n', '', '', '', '', '', '', '', 'r', '', '', '', '', '', '', '', ' ', '', '', '', '', '', '', '', 'c', '', '', '', '', '', '', '', 'e', '', '', '', '', '', '', '', 'n', '', '', '', '', '', '', '', 'a', '', '', '', '', '', '', '', 'h', '', '', '', '', '', '', '', ' ', '', '', '', '', '', '', '', 'n', '', '', '', '', '', '', '', 's', '', '', '', '', '', '', '', 'l', '', '']\n",
      "[None, None, None, None, None]\n",
      "EEsei nrheihib  seva hctv vesramd.\n",
      " oeeTee btTent l.\n",
      "mtoeenei n…Ite ha isiLegt dgMs fn  rira  iisudI’oo w  ldor’arto a\n",
      "lil r e,lnaedfc.dgsar.dfo’refI hbtoe ntedr ooel. .,rikiee yenr cenah nsl\n"
     ]
    }
   ],
   "source": [
    "fence_cipher = RailFenceCipher()\n",
    "encrypted_text = fence_cipher.encrypt(plaintext, height, verbose=True)\n",
    "print(encrypted_text)"
   ]
  },
  {
   "cell_type": "markdown",
   "metadata": {},
   "source": [
    "### Decrypt"
   ]
  },
  {
   "cell_type": "code",
   "execution_count": 15,
   "metadata": {},
   "outputs": [
    {
     "name": "stdout",
     "output_type": "stream",
     "text": [
      "['E', '', '', '', '', '', '', '', 'E', '', '', '', '', '', '', '', 's', '', '', '', '', '', '', '', 'e', '', '', '', '', '', '', '', 'i', '', '', '', '', '', '', '', ' ', '', '', '', '', '', '', '', 'n', '', '', '', '', '', '', '', 'r', '', '', '', '', '', '', '', 'h', '', '', '', '', '', '', '', 'e', '', '', '', '', '', '', '', 'i', '', '', '', '', '', '', '', 'h', '', '', '', '', '', '', '', 'i', '', '', '', '', '', '', '', 'b', '', '', '', '', '', '', '', ' ', '', '', '', '', '', '', '', ' ', '', '', '', '', '', '', '', 's', '', '', '', '', '', '', '', 'e', '', '', '', '', '', '', '', 'v', '', '', '', '', '', '', '', 'a', '', '', '', '', '', '', '', ' ', '', '', '', '', '', '', '', 'h', '', '', '', '', '', '', '', 'c', '', '', '', '', '', '', '', 't', '', '', '', '', '', '']\n",
      "['', 'v', '', '', '', '', '', ' ', '', 'v', '', '', '', '', '', 'e', '', 's', '', '', '', '', '', 'r', '', 'a', '', '', '', '', '', 'm', '', 'd', '', '', '', '', '', '.', '', '\\n', '', '', '', '', '', ' ', '', 'o', '', '', '', '', '', 'e', '', 'e', '', '', '', '', '', 'T', '', 'e', '', '', '', '', '', 'e', '', ' ', '', '', '', '', '', 'b', '', 't', '', '', '', '', '', 'T', '', 'e', '', '', '', '', '', 'n', '', 't', '', '', '', '', '', ' ', '', 'l', '', '', '', '', '', '.', '', '\\n', '', '', '', '', '', 'm', '', 't', '', '', '', '', '', 'o', '', 'e', '', '', '', '', '', 'e', '', 'n', '', '', '', '', '', 'e', '', 'i', '', '', '', '', '', ' ', '', 'n', '', '', '', '', '', '…', '', 'I', '', '', '', '', '', 't', '', 'e', '', '', '', '', '', ' ', '', 'h', '', '', '', '', '', 'a', '', ' ', '', '', '', '', '']\n",
      "['', '', 'i', '', '', '', 's', '', '', '', 'i', '', '', '', 'L', '', '', '', 'e', '', '', '', 'g', '', '', '', 't', '', '', '', ' ', '', '', '', 'd', '', '', '', 'g', '', '', '', 'M', '', '', '', 's', '', '', '', ' ', '', '', '', 'f', '', '', '', 'n', '', '', '', ' ', '', '', '', ' ', '', '', '', 'r', '', '', '', 'i', '', '', '', 'r', '', '', '', 'a', '', '', '', ' ', '', '', '', ' ', '', '', '', 'i', '', '', '', 'i', '', '', '', 's', '', '', '', 'u', '', '', '', 'd', '', '', '', 'I', '', '', '', '’', '', '', '', 'o', '', '', '', 'o', '', '', '', ' ', '', '', '', 'w', '', '', '', ' ', '', '', '', ' ', '', '', '', 'l', '', '', '', 'd', '', '', '', 'o', '', '', '', 'r', '', '', '', '’', '', '', '', 'a', '', '', '', 'r', '', '', '', 't', '', '', '', 'o', '', '', '', ' ', '', '', '', 'a', '', '', '', '\\n']\n",
      "['', '', '', 'l', '', 'i', '', '', '', '', '', 'l', '', ' ', '', '', '', '', '', 'r', '', ' ', '', '', '', '', '', 'e', '', ',', '', '', '', '', '', 'l', '', 'n', '', '', '', '', '', 'a', '', 'e', '', '', '', '', '', 'd', '', 'f', '', '', '', '', '', 'c', '', '.', '', '', '', '', '', 'd', '', 'g', '', '', '', '', '', 's', '', 'a', '', '', '', '', '', 'r', '', '.', '', '', '', '', '', 'd', '', 'f', '', '', '', '', '', 'o', '', '’', '', '', '', '', '', 'r', '', 'e', '', '', '', '', '', 'f', '', 'I', '', '', '', '', '', ' ', '', 'h', '', '', '', '', '', 'b', '', 't', '', '', '', '', '', 'o', '', 'e', '', '', '', '', '', ' ', '', 'n', '', '', '', '', '', 't', '', 'e', '', '', '', '', '', 'd', '', 'r', '', '', '', '', '', ' ', '', 'o', '', '', '', '', '', 'o', '', 'e', '', '', '', '', '', 'l', '', '.', '']\n",
      "['', '', '', '', ' ', '', '', '', '', '', '', '', '.', '', '', '', '', '', '', '', ',', '', '', '', '', '', '', '', 'r', '', '', '', '', '', '', '', 'i', '', '', '', '', '', '', '', 'k', '', '', '', '', '', '', '', 'i', '', '', '', '', '', '', '', 'e', '', '', '', '', '', '', '', 'e', '', '', '', '', '', '', '', ' ', '', '', '', '', '', '', '', 'y', '', '', '', '', '', '', '', 'e', '', '', '', '', '', '', '', 'n', '', '', '', '', '', '', '', 'r', '', '', '', '', '', '', '', ' ', '', '', '', '', '', '', '', 'c', '', '', '', '', '', '', '', 'e', '', '', '', '', '', '', '', 'n', '', '', '', '', '', '', '', 'a', '', '', '', '', '', '', '', 'h', '', '', '', '', '', '', '', ' ', '', '', '', '', '', '', '', 'n', '', '', '', '', '', '', '', 's', '', '', '', '', '', '', '', 'l', '', '']\n",
      "[None, None, None, None, None]\n",
      "Evil is Evil. Lesser, greater, middling. \n",
      "Makes no difference. The degree is arbitary. The definition’s blurred. \n",
      "If I’m to choose between one evil and another… I’d rather not choose at all.\n",
      "\n"
     ]
    }
   ],
   "source": [
    "decrypted_text = fence_cipher.decrypt(encrypted_text, height, verbose=True)\n",
    "print(decrypted_text)"
   ]
  },
  {
   "cell_type": "code",
   "execution_count": 16,
   "metadata": {},
   "outputs": [
    {
     "name": "stdout",
     "output_type": "stream",
     "text": [
      "Fence height: 2\n",
      "------------------------------\n",
      "EsEusdeIi’ onor hwe i hlidbo r ’saervtao  hac\n",
      "tlvi lv ers rea,mldn.a\n",
      "e dofece.Tdeges abrt.Tdefnot’ rle.f\n",
      "Im thobeteonee in tne…dIrt eo oheal .i s.i,Lreigkti edeg Myse nfrn  c erniarha  n sili\n",
      "Fence height: 3\n",
      "------------------------------\n",
      "Eto El’.s\n",
      "rmeteoiefe nIeni  rnh…hIbteet ihoah eiis ibLne gtt  edsgdMesr vf na o  roihreac l ti.ivs u d.Iv’,oeor swi r kladiomre’daer.t o\n",
      " ya \n",
      "eloinle rre  eT,cleneaeend facb.hdtg sTanre.sdnfl\n",
      "Fence height: 4\n",
      "------------------------------\n",
      "Edids.E\n",
      "urd soI ’eeeoooTie owe   e bntlldTreo.rnht’ a elr.t.i\n",
      "o, mhtar\n",
      "oieliiebnlk e iri   nee,…sIlenteea e vhdyfaa ce.i sdngihLsraecgr .tt dcfdvgoe’M srne vffaIne  hh srb tirroneaa  sn mitle\n",
      "Fence height: 5\n",
      "------------------------------\n",
      "Evil is Evil. Lesser, greater, middling. \n",
      "Makes no difference. The degree is arbitary. The definition’s blurred. \n",
      "If I’m to choose between one evil and another… I’d rather not choose at all.\n",
      "\n"
     ]
    }
   ],
   "source": [
    "fence_cipher.brute_force_attack(encrypted_text, height_range=[2, 5])"
   ]
  },
  {
   "cell_type": "code",
   "execution_count": null,
   "metadata": {},
   "outputs": [],
   "source": []
  }
 ],
 "metadata": {
  "kernelspec": {
   "display_name": "Python 3",
   "language": "python",
   "name": "python3"
  },
  "language_info": {
   "codemirror_mode": {
    "name": "ipython",
    "version": 3
   },
   "file_extension": ".py",
   "mimetype": "text/x-python",
   "name": "python",
   "nbconvert_exporter": "python",
   "pygments_lexer": "ipython3",
   "version": "3.8.2"
  }
 },
 "nbformat": 4,
 "nbformat_minor": 4
}
