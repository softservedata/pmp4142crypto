{
 "cells": [
  {
   "cell_type": "code",
   "execution_count": 1,
   "metadata": {},
   "outputs": [],
   "source": [
    "import numpy as np"
   ]
  },
  {
   "cell_type": "code",
   "execution_count": 2,
   "metadata": {},
   "outputs": [],
   "source": [
    "def get_amplitude(height):\n",
    "  return np.append(np.arange(height), np.arange(height-2, -1, -1))"
   ]
  },
  {
   "cell_type": "code",
   "execution_count": 3,
   "metadata": {},
   "outputs": [
    {
     "data": {
      "text/plain": [
       "array([0, 1, 2, 3, 4, 3, 2, 1, 0])"
      ]
     },
     "execution_count": 3,
     "metadata": {},
     "output_type": "execute_result"
    }
   ],
   "source": [
    "get_amplitude(5)"
   ]
  },
  {
   "cell_type": "code",
   "execution_count": 4,
   "metadata": {},
   "outputs": [],
   "source": [
    "def encrypt(text, height):\n",
    "  length = len(text)\n",
    "  fence = np.empty((height, length), dtype=str).tolist()\n",
    "\n",
    "  amplitude = get_amplitude(height)\n",
    "  amplitude_len = len(amplitude)\n",
    "\n",
    "  for i, char in enumerate(text):\n",
    "    height_idx = amplitude[i%(amplitude_len-1)]\n",
    "    fence[height_idx][i] = char \n",
    "\n",
    "  return ''.join(''.join(stick) for stick in fence)"
   ]
  },
  {
   "cell_type": "code",
   "execution_count": 5,
   "metadata": {},
   "outputs": [],
   "source": [
    "def decrypt(encrypted, height):\n",
    "  length = len(encrypted)\n",
    "  fence = np.empty((height, length), dtype=str).tolist()\n",
    "\n",
    "  amplitude = get_amplitude(height)\n",
    "  amplitude_len = len(amplitude)\n",
    "\n",
    "  index = 0\n",
    "  for i in range(height):\n",
    "    for j in range(length):\n",
    "      height_idx = amplitude[j%(amplitude_len-1)]\n",
    "      if i == height_idx:\n",
    "          fence[height_idx][j] = encrypted[index]\n",
    "          index += 1\n",
    "\n",
    "  text = ''\n",
    "  for i, char in enumerate(encrypted):\n",
    "    height_idx = amplitude[i%(amplitude_len-1)]\n",
    "    text += fence[height_idx][i]\n",
    "\n",
    "  return text"
   ]
  },
  {
   "cell_type": "code",
   "execution_count": 6,
   "metadata": {},
   "outputs": [],
   "source": [
    "text = 'crazy cucumber'\n",
    "height = 4"
   ]
  },
  {
   "cell_type": "code",
   "execution_count": 7,
   "metadata": {},
   "outputs": [
    {
     "name": "stdout",
     "output_type": "stream",
     "text": [
      "ccer ubraycmzu\n"
     ]
    }
   ],
   "source": [
    "encrypted = encrypt(text, height)\n",
    "print(encrypted)"
   ]
  },
  {
   "cell_type": "code",
   "execution_count": 8,
   "metadata": {},
   "outputs": [
    {
     "name": "stdout",
     "output_type": "stream",
     "text": [
      "crazy cucumber\n"
     ]
    }
   ],
   "source": [
    "decrypted = decrypt(encrypted, height)\n",
    "print(decrypted)"
   ]
  },
  {
   "cell_type": "code",
   "execution_count": 9,
   "metadata": {},
   "outputs": [],
   "source": [
    "def brute_force_hack(encrypted, height_range):\n",
    "\n",
    "  for i in range(height_range[0], height_range[1] + 1, 1):\n",
    "    print('Fence height:', i)\n",
    "    print(decrypt(encrypted, i))\n",
    "    print('-------------------------')"
   ]
  },
  {
   "cell_type": "code",
   "execution_count": 10,
   "metadata": {},
   "outputs": [
    {
     "name": "stdout",
     "output_type": "stream",
     "text": [
      "Fence height: 2\n",
      "crcaeyrc muzbu\n",
      "-------------------------\n",
      "Fence height: 3\n",
      "c mucbzreauyrc\n",
      "-------------------------\n",
      "Fence height: 4\n",
      "crazy cucumber\n",
      "-------------------------\n",
      "Fence height: 5\n",
      "ceuazybrc rcum\n",
      "-------------------------\n",
      "Fence height: 6\n",
      "ceuamuzybrc rc\n",
      "-------------------------\n"
     ]
    }
   ],
   "source": [
    "brute_force_hack(encrypted, height_range=[2, 6])"
   ]
  },
  {
   "cell_type": "code",
   "execution_count": null,
   "metadata": {},
   "outputs": [],
   "source": []
  }
 ],
 "metadata": {
  "kernelspec": {
   "display_name": "Python 3",
   "language": "python",
   "name": "python3"
  },
  "language_info": {
   "codemirror_mode": {
    "name": "ipython",
    "version": 3
   },
   "file_extension": ".py",
   "mimetype": "text/x-python",
   "name": "python",
   "nbconvert_exporter": "python",
   "pygments_lexer": "ipython3",
   "version": "3.8.2"
  }
 },
 "nbformat": 4,
 "nbformat_minor": 4
}
