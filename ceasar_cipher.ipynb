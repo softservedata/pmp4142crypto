{
 "cells": [
  {
   "cell_type": "code",
   "execution_count": 54,
   "metadata": {},
   "outputs": [],
   "source": [
    "class VigenereCipher:\n",
    "    def __init__(self):\n",
    "        self.mod = 26\n",
    "        self.lower_char_ord = ord('a')\n",
    "        self.upper_char_ord = ord('A')\n",
    "        \n",
    "    def encrypt(self, plaintext: str, keyword: str):\n",
    "        plaintext = plaintext.lower()\n",
    "        keyword = keyword.lower()\n",
    "        \n",
    "        key = keyword * (len(plaintext)//len(keyword) + 1)\n",
    "        key = key[:len(plaintext)]\n",
    "\n",
    "        ciphertext = \"\"\n",
    "        for p_char, k_char in zip(plaintext, key):\n",
    "            if not self._is_special_char(p_char):\n",
    "                ciphertext += chr((ord(p_char) + ord(k_char) - 2 * self.lower_char_ord) % self.mod + self.lower_char_ord)\n",
    "            else:\n",
    "              ciphertext += p_char\n",
    "\n",
    "        return ciphertext\n",
    "        \n",
    "#         ciphertext = \"\"\n",
    "#         for char in plaintext:\n",
    "#             if not self._is_special_char(char):\n",
    "#                 if char.isupper():\n",
    "#                     ciphertext += chr(((ord(char) - self.upper_char_ord) + shift) % self.mod + self.upper_char_ord)\n",
    "#                 else:\n",
    "#                     ciphertext += chr(((ord(char) - self.lower_char_ord) + shift) % self.mod + self.lower_char_ord)\n",
    "#             else:\n",
    "#                 ciphertext += char\n",
    "\n",
    "#         return ciphertext\n",
    "\n",
    "    def decrypt(self, ciphertext: str, keyword: str):\n",
    "        ciphertext = ciphertext.lower()\n",
    "        keyword = keyword.lower()\n",
    "        \n",
    "        key = keyword * (len(ciphertext)//len(keyword) + 1)\n",
    "        key = key[:len(ciphertext)]\n",
    "\n",
    "        plaintext = \"\"\n",
    "        for c_char, k_char in zip(ciphertext, key):\n",
    "            if not self._is_special_char(p_char):\n",
    "                plaintext += chr((ord(c_char) - ord(k_char) + 26) % self.mod + self.lower_char_ord)\n",
    "            else:\n",
    "                plaintext += p_char\n",
    "\n",
    "        return plaintext\n",
    "\n",
    "#     def analyze_frequencies(self, text: str):\n",
    "#         char_frequency = {}\n",
    "#         for char in text:\n",
    "#             if not self._is_special_char(char):\n",
    "#                 if char.lower() in char_frequency.keys():\n",
    "#                     char_frequency[char.lower()] += 1\n",
    "#                 else:\n",
    "#                     char_frequency[char.lower()] = 1\n",
    "\n",
    "#         return char_frequency\n",
    "    \n",
    "#     def hack_by_top_letter(self, ciphertext: str, train_text:str):\n",
    "#         encrypted_freq = self.analyze_frequencies(ciphertext)\n",
    "#         train_freq = self.analyze_frequencies(train_text)\n",
    "#         key = (\n",
    "#             ord(max(encrypted_freq, key=encrypted_freq.get)) - ord(max(train_freq, key=train_freq.get))\n",
    "#         ) % self.mod\n",
    "        \n",
    "#         return self.decrypt(ciphertext, key)\n",
    "\n",
    "    \n",
    "#     def hack_by_frequencies(self, ciphertext: str, train_text: str):\n",
    "#         encrypted_freq = self.analyze_frequencies(ciphertext)\n",
    "#         train_freq = self.analyze_frequencies(train_text)\n",
    "        \n",
    "#         encrypted_freq_sorted = sorted(encrypted_freq, key=lambda x: encrypted_freq[x], reverse=True)\n",
    "#         train_freq_sorted = sorted(train_freq, key=lambda x: train_freq[x], reverse=True)\n",
    "#         decryption_map = dict(zip(encrypted_freq_sorted, train_freq_sorted))\n",
    "        \n",
    "#         plaintext = \"\"\n",
    "#         for char in ciphertext:\n",
    "#             if not self._is_special_char(char):                \n",
    "#                 if char.isupper():\n",
    "#                     plaintext += decryption_map[char.lower()].upper()\n",
    "#                 else:\n",
    "#                     plaintext += decryption_map[char]\n",
    "#             else:\n",
    "#                 plaintext += char\n",
    "\n",
    "#         return plaintext\n",
    "    \n",
    "    \n",
    "    def _is_special_char(self, char: chr):\n",
    "        return not (\n",
    "            self.upper_char_ord <= ord(char) <= self.upper_char_ord + 25 or\n",
    "            self.lower_char_ord <= ord(char) <= self.lower_char_ord + 25\n",
    "        )"
   ]
  },
  {
   "cell_type": "code",
   "execution_count": 55,
   "metadata": {},
   "outputs": [],
   "source": [
    "text = \"\"\"By this time she\"\"\"\n",
    "book = open(\"alice_in_wonderland.txt\", \"r\").read()"
   ]
  },
  {
   "cell_type": "markdown",
   "metadata": {},
   "source": [
    "### Encrypt"
   ]
  },
  {
   "cell_type": "code",
   "execution_count": 56,
   "metadata": {},
   "outputs": [],
   "source": [
    "vigenere = VigenereCipher()\n",
    "key = \"key\""
   ]
  },
  {
   "cell_type": "code",
   "execution_count": 57,
   "metadata": {},
   "outputs": [
    {
     "name": "stdout",
     "output_type": "stream",
     "text": [
      "lc dlgc rsqc wfo\n"
     ]
    }
   ],
   "source": [
    "ciphertext = vigenere.encrypt(text, key)\n",
    "print(ciphertext)"
   ]
  },
  {
   "cell_type": "markdown",
   "metadata": {},
   "source": [
    "### Decrypt text"
   ]
  },
  {
   "cell_type": "markdown",
   "metadata": {},
   "source": [
    "#### Decrypt by known key"
   ]
  },
  {
   "cell_type": "code",
   "execution_count": 58,
   "metadata": {},
   "outputs": [
    {
     "name": "stdout",
     "output_type": "stream",
     "text": [
      "byythisetimekshe\n"
     ]
    }
   ],
   "source": [
    "decrypted_text = vigenere.decrypt(ciphertext, key)\n",
    "print(decrypted_text)"
   ]
  },
  {
   "cell_type": "markdown",
   "metadata": {},
   "source": [
    "#### Decrypt by the most frequent letter"
   ]
  },
  {
   "cell_type": "code",
   "execution_count": 1,
   "metadata": {},
   "outputs": [],
   "source": [
    "# hacked_text = vigenere.hack_by_top_letter(ciphertext=ciphertext, train_text=book)\n",
    "# print(hacked_text)"
   ]
  },
  {
   "cell_type": "markdown",
   "metadata": {},
   "source": [
    "#### Decrypt by the order of most frequent letters"
   ]
  },
  {
   "cell_type": "code",
   "execution_count": 2,
   "metadata": {},
   "outputs": [],
   "source": [
    "# hacked_text = ceasar.hack_by_frequencies(ciphertext=ciphertext, train_text=book)\n",
    "# print(hacked_text)"
   ]
  },
  {
   "cell_type": "code",
   "execution_count": null,
   "metadata": {},
   "outputs": [],
   "source": []
  },
  {
   "cell_type": "code",
   "execution_count": 18,
   "metadata": {},
   "outputs": [
    {
     "data": {
      "text/plain": [
       "65"
      ]
     },
     "execution_count": 18,
     "metadata": {},
     "output_type": "execute_result"
    }
   ],
   "source": [
    "ord('A')"
   ]
  },
  {
   "cell_type": "code",
   "execution_count": null,
   "metadata": {},
   "outputs": [],
   "source": []
  }
 ],
 "metadata": {
  "kernelspec": {
   "display_name": "Python 3",
   "language": "python",
   "name": "python3"
  },
  "language_info": {
   "codemirror_mode": {
    "name": "ipython",
    "version": 3
   },
   "file_extension": ".py",
   "mimetype": "text/x-python",
   "name": "python",
   "nbconvert_exporter": "python",
   "pygments_lexer": "ipython3",
   "version": "3.8.2"
  }
 },
 "nbformat": 4,
 "nbformat_minor": 4
}
