{
 "cells": [
  {
   "cell_type": "code",
   "execution_count": 1,
   "metadata": {},
   "outputs": [],
   "source": [
    "class CeasarCipher:\n",
    "    def __init__(self):\n",
    "        self.mod = 26\n",
    "        self.lower_char_ord = ord('a')\n",
    "        self.upper_char_ord = ord('A')\n",
    "        \n",
    "    def encrypt(self, plaintext: str, shift: int):\n",
    "        ciphertext = \"\"\n",
    "\n",
    "        for char in plaintext:\n",
    "            if not self._is_special_char(char):\n",
    "                if char.isupper():\n",
    "                    ciphertext += chr(((ord(char) - self.upper_char_ord) + shift) % self.mod + self.upper_char_ord)\n",
    "                else:\n",
    "                    ciphertext += chr(((ord(char) - self.lower_char_ord) + shift) % self.mod + self.lower_char_ord)\n",
    "            else:\n",
    "                ciphertext += char\n",
    "\n",
    "        return ciphertext\n",
    "\n",
    "    def decrypt(self, ciphertext: str, shift: int):\n",
    "        plaintext = \"\"\n",
    "\n",
    "        for char in ciphertext:\n",
    "            if not self._is_special_char(char):\n",
    "                if char.isupper():\n",
    "                    plaintext += chr(((ord(char) - self.upper_char_ord) - shift) % self.mod + self.upper_char_ord)\n",
    "                else:\n",
    "                    plaintext += chr(((ord(char) - self.lower_char_ord) - shift) % self.mod + self.lower_char_ord)\n",
    "            else:\n",
    "                plaintext += char\n",
    "\n",
    "        return plaintext\n",
    "    \n",
    "    def analyze_frequencies(self, text: str):\n",
    "        char_frequency = {}\n",
    "        for char in text:\n",
    "            if not self._is_special_char(char):\n",
    "                if char.lower() in char_frequency.keys():\n",
    "                    char_frequency[char.lower()] += 1\n",
    "                else:\n",
    "                    char_frequency[char.lower()] = 1\n",
    "\n",
    "        return char_frequency\n",
    "    \n",
    "    def hack_by_top_letter(self, ciphertext: str, train_text:str):\n",
    "        encrypted_freq = self.analyze_frequencies(ciphertext)\n",
    "        train_freq = self.analyze_frequencies(train_text)\n",
    "        key = (\n",
    "            ord(max(encrypted_freq, key=encrypted_freq.get)) - ord(max(train_freq, key=train_freq.get))\n",
    "        ) % self.mod\n",
    "        \n",
    "        return self.decrypt(ciphertext, key)\n",
    "\n",
    "    \n",
    "    def hack_by_frequencies(self, ciphertext: str, train_text: str):\n",
    "        encrypted_freq = self.analyze_frequencies(ciphertext)\n",
    "        train_freq = self.analyze_frequencies(train_text)\n",
    "        \n",
    "        encrypted_freq_sorted = sorted(encrypted_freq, key=lambda x: encrypted_freq[x], reverse=True)\n",
    "        train_freq_sorted = sorted(train_freq, key=lambda x: train_freq[x], reverse=True)\n",
    "        decryption_map = dict(zip(encrypted_freq_sorted, train_freq_sorted))\n",
    "        \n",
    "        plaintext = \"\"\n",
    "        for char in ciphertext:\n",
    "            if not self._is_special_char(char):                \n",
    "                if char.isupper():\n",
    "                    plaintext += decryption_map[char.lower()].upper()\n",
    "                else:\n",
    "                    plaintext += decryption_map[char]\n",
    "            else:\n",
    "                plaintext += char\n",
    "\n",
    "        return plaintext\n",
    "    \n",
    "    \n",
    "    def _is_special_char(self, char: chr):\n",
    "        return not (\n",
    "            self.upper_char_ord <= ord(char) <= self.upper_char_ord + 25 or\n",
    "            self.lower_char_ord <= ord(char) <= self.lower_char_ord + 25\n",
    "        )"
   ]
  },
  {
   "cell_type": "code",
   "execution_count": 2,
   "metadata": {},
   "outputs": [],
   "source": [
    "text = \"\"\"By this time she had found her way into a tidy little room with\n",
    "a table in the window, and on it (as she had hoped) a fan and two\n",
    "or three pairs of tiny white kid gloves:  she took up the fan and\n",
    "a pair of the gloves, and was just going to leave the room, when\n",
    "her eye fell upon a little bottle that stood near the looking-\n",
    "glass.  There was no label this time with the words `DRINK ME,'\n",
    "but nevertheless she uncorked it and put it to her lips.  `I know\n",
    "SOMETHING interesting is sure to happen,' she said to herself,\n",
    "`whenever I eat or drink anything; so I'll just see what this\n",
    "bottle does.  I do hope it'll make me grow large again, for\n",
    "really I'm quite tired of being such a tiny little thing!'\n",
    "\n",
    "  It did so indeed, and much sooner than she had expected:\n",
    "before she had drunk half the bottle, she found her head pressing\n",
    "against the ceiling, and had to stoop to save her neck from being\n",
    "broken.  She hastily put down the bottle, saying to herself\n",
    "`That's quite enough--I hope I shan't grow any more--As it is, I\n",
    "can't get out at the door--I do wish I hadn't drunk quite so\n",
    "much!'\n",
    "\n",
    "  Alas! it was too late to wish that!  She went on growing, and\n",
    "growing, and very soon had to kneel down on the floor:  in\n",
    "another minute there was not even room for this, and she tried\n",
    "the effect of lying down with one elbow against the door, and the\n",
    "other arm curled round her head.  Still she went on growing, and,\n",
    "as a last resource, she put one arm out of the window, and one\n",
    "foot up the chimney, and said to herself `Now I can do no more,\n",
    "whatever happens.  What WILL become of me?'\n",
    "\"\"\"\n",
    "book = open(\"alice_in_wonderland.txt\", \"r\").read()"
   ]
  },
  {
   "cell_type": "markdown",
   "metadata": {},
   "source": [
    "### Encrypt"
   ]
  },
  {
   "cell_type": "code",
   "execution_count": 3,
   "metadata": {},
   "outputs": [],
   "source": [
    "ceasar = CeasarCipher()\n",
    "key = 5"
   ]
  },
  {
   "cell_type": "code",
   "execution_count": 4,
   "metadata": {},
   "outputs": [
    {
     "name": "stdout",
     "output_type": "stream",
     "text": [
      "Gd ymnx ynrj xmj mfi ktzsi mjw bfd nsyt f ynid qnyyqj wttr bnym\n",
      "f yfgqj ns ymj bnsitb, fsi ts ny (fx xmj mfi mtuji) f kfs fsi ybt\n",
      "tw ymwjj ufnwx tk ynsd bmnyj pni lqtajx:  xmj yttp zu ymj kfs fsi\n",
      "f ufnw tk ymj lqtajx, fsi bfx ozxy ltnsl yt qjfaj ymj wttr, bmjs\n",
      "mjw jdj kjqq zuts f qnyyqj gtyyqj ymfy xytti sjfw ymj qttpnsl-\n",
      "lqfxx.  Ymjwj bfx st qfgjq ymnx ynrj bnym ymj btwix `IWNSP RJ,'\n",
      "gzy sjajwymjqjxx xmj zshtwpji ny fsi uzy ny yt mjw qnux.  `N pstb\n",
      "XTRJYMNSL nsyjwjxynsl nx xzwj yt mfuujs,' xmj xfni yt mjwxjqk,\n",
      "`bmjsjajw N jfy tw iwnsp fsdymnsl; xt N'qq ozxy xjj bmfy ymnx\n",
      "gtyyqj itjx.  N it mtuj ny'qq rfpj rj lwtb qfwlj flfns, ktw\n",
      "wjfqqd N'r vznyj ynwji tk gjnsl xzhm f ynsd qnyyqj ymnsl!'\n",
      "\n",
      "  Ny ini xt nsijji, fsi rzhm xttsjw ymfs xmj mfi jcujhyji:\n",
      "gjktwj xmj mfi iwzsp mfqk ymj gtyyqj, xmj ktzsi mjw mjfi uwjxxnsl\n",
      "flfnsxy ymj hjnqnsl, fsi mfi yt xyttu yt xfaj mjw sjhp kwtr gjnsl\n",
      "gwtpjs.  Xmj mfxynqd uzy itbs ymj gtyyqj, xfdnsl yt mjwxjqk\n",
      "`Ymfy'x vznyj jstzlm--N mtuj N xmfs'y lwtb fsd rtwj--Fx ny nx, N\n",
      "hfs'y ljy tzy fy ymj ittw--N it bnxm N mfis'y iwzsp vznyj xt\n",
      "rzhm!'\n",
      "\n",
      "  Fqfx! ny bfx ytt qfyj yt bnxm ymfy!  Xmj bjsy ts lwtbnsl, fsi\n",
      "lwtbnsl, fsi ajwd xtts mfi yt psjjq itbs ts ymj kqttw:  ns\n",
      "fstymjw rnszyj ymjwj bfx sty jajs wttr ktw ymnx, fsi xmj ywnji\n",
      "ymj jkkjhy tk qdnsl itbs bnym tsj jqgtb flfnsxy ymj ittw, fsi ymj\n",
      "tymjw fwr hzwqji wtzsi mjw mjfi.  Xynqq xmj bjsy ts lwtbnsl, fsi,\n",
      "fx f qfxy wjxtzwhj, xmj uzy tsj fwr tzy tk ymj bnsitb, fsi tsj\n",
      "ktty zu ymj hmnrsjd, fsi xfni yt mjwxjqk `Stb N hfs it st rtwj,\n",
      "bmfyjajw mfuujsx.  Bmfy BNQQ gjhtrj tk rj?'\n",
      "\n"
     ]
    }
   ],
   "source": [
    "ciphertext = ceasar.encrypt(text, key)\n",
    "print(ciphertext)"
   ]
  },
  {
   "cell_type": "markdown",
   "metadata": {},
   "source": [
    "### Decrypt text"
   ]
  },
  {
   "cell_type": "markdown",
   "metadata": {},
   "source": [
    "#### Decrypt by known key"
   ]
  },
  {
   "cell_type": "code",
   "execution_count": 5,
   "metadata": {},
   "outputs": [
    {
     "name": "stdout",
     "output_type": "stream",
     "text": [
      "By this time she had found her way into a tidy little room with\n",
      "a table in the window, and on it (as she had hoped) a fan and two\n",
      "or three pairs of tiny white kid gloves:  she took up the fan and\n",
      "a pair of the gloves, and was just going to leave the room, when\n",
      "her eye fell upon a little bottle that stood near the looking-\n",
      "glass.  There was no label this time with the words `DRINK ME,'\n",
      "but nevertheless she uncorked it and put it to her lips.  `I know\n",
      "SOMETHING interesting is sure to happen,' she said to herself,\n",
      "`whenever I eat or drink anything; so I'll just see what this\n",
      "bottle does.  I do hope it'll make me grow large again, for\n",
      "really I'm quite tired of being such a tiny little thing!'\n",
      "\n",
      "  It did so indeed, and much sooner than she had expected:\n",
      "before she had drunk half the bottle, she found her head pressing\n",
      "against the ceiling, and had to stoop to save her neck from being\n",
      "broken.  She hastily put down the bottle, saying to herself\n",
      "`That's quite enough--I hope I shan't grow any more--As it is, I\n",
      "can't get out at the door--I do wish I hadn't drunk quite so\n",
      "much!'\n",
      "\n",
      "  Alas! it was too late to wish that!  She went on growing, and\n",
      "growing, and very soon had to kneel down on the floor:  in\n",
      "another minute there was not even room for this, and she tried\n",
      "the effect of lying down with one elbow against the door, and the\n",
      "other arm curled round her head.  Still she went on growing, and,\n",
      "as a last resource, she put one arm out of the window, and one\n",
      "foot up the chimney, and said to herself `Now I can do no more,\n",
      "whatever happens.  What WILL become of me?'\n",
      "\n"
     ]
    }
   ],
   "source": [
    "decrypted_text = ceasar.decrypt(ciphertext, key)\n",
    "print(decrypted_text)"
   ]
  },
  {
   "cell_type": "markdown",
   "metadata": {},
   "source": [
    "#### Decrypt by the most frequent letter"
   ]
  },
  {
   "cell_type": "code",
   "execution_count": 6,
   "metadata": {},
   "outputs": [
    {
     "name": "stdout",
     "output_type": "stream",
     "text": [
      "By this time she had found her way into a tidy little room with\n",
      "a table in the window, and on it (as she had hoped) a fan and two\n",
      "or three pairs of tiny white kid gloves:  she took up the fan and\n",
      "a pair of the gloves, and was just going to leave the room, when\n",
      "her eye fell upon a little bottle that stood near the looking-\n",
      "glass.  There was no label this time with the words `DRINK ME,'\n",
      "but nevertheless she uncorked it and put it to her lips.  `I know\n",
      "SOMETHING interesting is sure to happen,' she said to herself,\n",
      "`whenever I eat or drink anything; so I'll just see what this\n",
      "bottle does.  I do hope it'll make me grow large again, for\n",
      "really I'm quite tired of being such a tiny little thing!'\n",
      "\n",
      "  It did so indeed, and much sooner than she had expected:\n",
      "before she had drunk half the bottle, she found her head pressing\n",
      "against the ceiling, and had to stoop to save her neck from being\n",
      "broken.  She hastily put down the bottle, saying to herself\n",
      "`That's quite enough--I hope I shan't grow any more--As it is, I\n",
      "can't get out at the door--I do wish I hadn't drunk quite so\n",
      "much!'\n",
      "\n",
      "  Alas! it was too late to wish that!  She went on growing, and\n",
      "growing, and very soon had to kneel down on the floor:  in\n",
      "another minute there was not even room for this, and she tried\n",
      "the effect of lying down with one elbow against the door, and the\n",
      "other arm curled round her head.  Still she went on growing, and,\n",
      "as a last resource, she put one arm out of the window, and one\n",
      "foot up the chimney, and said to herself `Now I can do no more,\n",
      "whatever happens.  What WILL become of me?'\n",
      "\n"
     ]
    }
   ],
   "source": [
    "hacked_text = ceasar.hack_by_top_letter(ciphertext=ciphertext, train_text=book)\n",
    "print(hacked_text)"
   ]
  },
  {
   "cell_type": "markdown",
   "metadata": {},
   "source": [
    "#### Decrypt by the order of most frequent letters"
   ]
  },
  {
   "cell_type": "code",
   "execution_count": 7,
   "metadata": {},
   "outputs": [
    {
     "name": "stdout",
     "output_type": "stream",
     "text": [
      "Mb this tice she hnl fogal her unb iato n tilb dittde rooc uith\n",
      "n tnmde ia the uialou, nal oa it (ns she hnl hoyel) n fna nal tuo\n",
      "or three ynirs of tiab uhite kil wdoves:  she took gy the fna nal\n",
      "n ynir of the wdoves, nal uns jgst woiaw to denve the rooc, uhea\n",
      "her ebe fedd gyoa n dittde mottde thnt stool aenr the dookiaw-\n",
      "wdnss.  There uns ao dnmed this tice uith the uorls `LRIAK CE,'\n",
      "mgt aeverthedess she gaporkel it nal ygt it to her diys.  `I kaou\n",
      "SOCETHIAW iaterestiaw is sgre to hnyyea,' she snil to hersedf,\n",
      "`uheaever I ent or lriak nabthiaw; so I'dd jgst see uhnt this\n",
      "mottde loes.  I lo hoye it'dd cnke ce wrou dnrwe nwnia, for\n",
      "renddb I'c qgite tirel of meiaw sgph n tiab dittde thiaw!'\n",
      "\n",
      "  It lil so ialeel, nal cgph sooaer thna she hnl exyeptel:\n",
      "mefore she hnl lrgak hndf the mottde, she fogal her henl yressiaw\n",
      "nwniast the peidiaw, nal hnl to stooy to snve her aepk froc meiaw\n",
      "mrokea.  She hnstidb ygt loua the mottde, snbiaw to hersedf\n",
      "`Thnt's qgite eaogwh--I hoye I shna't wrou nab core--Ns it is, I\n",
      "pna't wet ogt nt the loor--I lo uish I hnla't lrgak qgite so\n",
      "cgph!'\n",
      "\n",
      "  Ndns! it uns too dnte to uish thnt!  She ueat oa wrouiaw, nal\n",
      "wrouiaw, nal verb sooa hnl to kaeed loua oa the fdoor:  ia\n",
      "naother ciagte there uns aot evea rooc for this, nal she triel\n",
      "the effept of dbiaw loua uith oae edmou nwniast the loor, nal the\n",
      "other nrc pgrdel rogal her henl.  Stidd she ueat oa wrouiaw, nal,\n",
      "ns n dnst resogrpe, she ygt oae nrc ogt of the uialou, nal oae\n",
      "foot gy the phicaeb, nal snil to hersedf `Aou I pna lo ao core,\n",
      "uhntever hnyyeas.  Uhnt UIDD mepoce of ce?'\n",
      "\n"
     ]
    }
   ],
   "source": [
    "hacked_text = ceasar.hack_by_frequencies(ciphertext=ciphertext, train_text=book)\n",
    "print(hacked_text)"
   ]
  }
 ],
 "metadata": {
  "kernelspec": {
   "display_name": "Python 3",
   "language": "python",
   "name": "python3"
  },
  "language_info": {
   "codemirror_mode": {
    "name": "ipython",
    "version": 3
   },
   "file_extension": ".py",
   "mimetype": "text/x-python",
   "name": "python",
   "nbconvert_exporter": "python",
   "pygments_lexer": "ipython3",
   "version": "3.8.2"
  }
 },
 "nbformat": 4,
 "nbformat_minor": 4
}
